{
  "cells": [
    {
      "cell_type": "code",
      "execution_count": 14,
      "metadata": {
        "colab": {
          "base_uri": "https://localhost:8080/"
        },
        "id": "gBKQOQV04ka-",
        "outputId": "7a2d87a6-659e-4f4f-87ef-01c0418b6239"
      },
      "outputs": [
        {
          "name": "stdout",
          "output_type": "stream",
          "text": [
            "Requirement already satisfied: snowflake-connector-python in c:\\users\\mithunm\\appdata\\local\\programs\\python\\python311\\lib\\site-packages (3.7.1)\n",
            "Requirement already satisfied: asn1crypto<2.0.0,>0.24.0 in c:\\users\\mithunm\\appdata\\local\\programs\\python\\python311\\lib\\site-packages (from snowflake-connector-python) (1.5.1)\n",
            "Requirement already satisfied: cffi<2.0.0,>=1.9 in c:\\users\\mithunm\\appdata\\local\\programs\\python\\python311\\lib\\site-packages (from snowflake-connector-python) (1.16.0)\n",
            "Requirement already satisfied: cryptography<43.0.0,>=3.1.0 in c:\\users\\mithunm\\appdata\\local\\programs\\python\\python311\\lib\\site-packages (from snowflake-connector-python) (42.0.5)\n",
            "Requirement already satisfied: pyOpenSSL<25.0.0,>=16.2.0 in c:\\users\\mithunm\\appdata\\local\\programs\\python\\python311\\lib\\site-packages (from snowflake-connector-python) (24.1.0)\n",
            "Requirement already satisfied: pyjwt<3.0.0 in c:\\users\\mithunm\\appdata\\local\\programs\\python\\python311\\lib\\site-packages (from snowflake-connector-python) (2.8.0)\n",
            "Requirement already satisfied: pytz in c:\\users\\mithunm\\appdata\\local\\programs\\python\\python311\\lib\\site-packages (from snowflake-connector-python) (2024.1)\n",
            "Requirement already satisfied: requests<3.0.0 in c:\\users\\mithunm\\appdata\\local\\programs\\python\\python311\\lib\\site-packages (from snowflake-connector-python) (2.31.0)\n",
            "Requirement already satisfied: packaging in c:\\users\\mithunm\\appdata\\roaming\\python\\python311\\site-packages (from snowflake-connector-python) (23.2)\n",
            "Requirement already satisfied: charset-normalizer<4,>=2 in c:\\users\\mithunm\\appdata\\local\\programs\\python\\python311\\lib\\site-packages (from snowflake-connector-python) (3.3.2)\n",
            "Requirement already satisfied: idna<4,>=2.5 in c:\\users\\mithunm\\appdata\\local\\programs\\python\\python311\\lib\\site-packages (from snowflake-connector-python) (3.6)\n",
            "Requirement already satisfied: certifi>=2017.4.17 in c:\\users\\mithunm\\appdata\\local\\programs\\python\\python311\\lib\\site-packages (from snowflake-connector-python) (2024.2.2)\n",
            "Requirement already satisfied: typing-extensions<5,>=4.3 in c:\\users\\mithunm\\appdata\\local\\programs\\python\\python311\\lib\\site-packages (from snowflake-connector-python) (4.11.0)\n",
            "Requirement already satisfied: filelock<4,>=3.5 in c:\\users\\mithunm\\appdata\\local\\programs\\python\\python311\\lib\\site-packages (from snowflake-connector-python) (3.13.3)\n",
            "Requirement already satisfied: sortedcontainers>=2.4.0 in c:\\users\\mithunm\\appdata\\local\\programs\\python\\python311\\lib\\site-packages (from snowflake-connector-python) (2.4.0)\n",
            "Requirement already satisfied: platformdirs<4.0.0,>=2.6.0 in c:\\users\\mithunm\\appdata\\local\\programs\\python\\python311\\lib\\site-packages (from snowflake-connector-python) (3.11.0)\n",
            "Requirement already satisfied: tomlkit in c:\\users\\mithunm\\appdata\\local\\programs\\python\\python311\\lib\\site-packages (from snowflake-connector-python) (0.12.4)\n",
            "Requirement already satisfied: pycparser in c:\\users\\mithunm\\appdata\\local\\programs\\python\\python311\\lib\\site-packages (from cffi<2.0.0,>=1.9->snowflake-connector-python) (2.22)\n",
            "Requirement already satisfied: urllib3<3,>=1.21.1 in c:\\users\\mithunm\\appdata\\local\\programs\\python\\python311\\lib\\site-packages (from requests<3.0.0->snowflake-connector-python) (2.2.1)\n",
            "Note: you may need to restart the kernel to use updated packages.\n"
          ]
        },
        {
          "name": "stderr",
          "output_type": "stream",
          "text": [
            "\n",
            "[notice] A new release of pip available: 22.3 -> 24.0\n",
            "[notice] To update, run: python.exe -m pip install --upgrade pip\n"
          ]
        }
      ],
      "source": [
        "pip install snowflake-connector-python\n"
      ]
    },
    {
      "cell_type": "code",
      "execution_count": 15,
      "metadata": {
        "colab": {
          "base_uri": "https://localhost:8080/"
        },
        "id": "WPRRqwO34jgE",
        "outputId": "c4892e56-c56e-40b4-946c-cd2743afeea1"
      },
      "outputs": [
        {
          "name": "stdout",
          "output_type": "stream",
          "text": [
            "Attempting to connect (Attempt 1)...\n",
            "Connection established successfully!\n",
            "             NAME                  EMAIL USERTYPE               ROLE  \\\n",
            "0   Joseph Peters  abigail38@example.com     user  software engineer   \n",
            "1   Joseph Peters  abigail38@example.com     user  software engineer   \n",
            "2   Joseph Peters  abigail38@example.com     user  software engineer   \n",
            "3   Joseph Peters  abigail38@example.com     user  software engineer   \n",
            "4  Jennifer Welch     aclark@example.org     user         consultant   \n",
            "\n",
            "        PROJECT_NAME                             PROJECTID  \\\n",
            "0  Sheppard and Sons  b5a66681-6e00-4fd7-aa62-aa34b4f16d39   \n",
            "1  Sheppard and Sons  b5a66681-6e00-4fd7-aa62-aa34b4f16d39   \n",
            "2  Sheppard and Sons  b5a66681-6e00-4fd7-aa62-aa34b4f16d39   \n",
            "3  Sheppard and Sons  b5a66681-6e00-4fd7-aa62-aa34b4f16d39   \n",
            "4       Mcguire-Hall  24ac78dd-f13b-4b1c-b268-f4005d794c8e   \n",
            "\n",
            "  PROJECT_START_PERIOD PROJECT_END_PERIOD    CATEGORY ALLOCATION_START  ...  \\\n",
            "0           2024-03-02         2024-06-28       AI/ML       2024-03-20  ...   \n",
            "1           2024-03-02         2024-06-28       AI/ML       2024-03-20  ...   \n",
            "2           2024-03-02         2024-06-28       AI/ML       2024-03-20  ...   \n",
            "3           2024-03-02         2024-06-28       AI/ML       2024-03-20  ...   \n",
            "4           2024-02-10         2024-06-09  Mobile App       2024-03-18  ...   \n",
            "\n",
            "   SUN FEEDBACK_START_PERIOD FEEDBACK_END_PERIOD Q1 Q2  Q3  Q4  Q5  Q6  \\\n",
            "0  3.0            2024-03-13          2024-05-05  2  1   4   3   1   5   \n",
            "1  1.0            2024-03-13          2024-05-05  2  1   4   3   1   5   \n",
            "2  3.0            2024-03-13          2024-05-05  2  1   4   3   1   5   \n",
            "3  8.0            2024-03-13          2024-05-05  2  1   4   3   1   5   \n",
            "4  0.0            2024-03-19          2024-04-17  3  5   2   2   2   1   \n",
            "\n",
            "                                   FEEDBACK_COMMENTS  \n",
            "0  Visit why hard because believe produce accept ...  \n",
            "1  Visit why hard because believe produce accept ...  \n",
            "2  Visit why hard because believe produce accept ...  \n",
            "3  Visit why hard because believe produce accept ...  \n",
            "4  Similar left must step sound price add. Voice ...  \n",
            "\n",
            "[5 rows x 31 columns]\n"
          ]
        }
      ],
      "source": [
        "import snowflake.connector\n",
        "import pandas as pd\n",
        "\n",
        "# Set up connection parameters\n",
        "user = \"Mithun\"\n",
        "password = \"Mithun123!!\"\n",
        "account = \"lz05490.central-india.azure\"\n",
        "warehouse = \"COMPUTE_WH\"\n",
        "database = \"TIMESHEET\"\n",
        "schema = \"FAKEDATA\"\n",
        "role = \"ACCOUNTADMIN\"\n",
        "retry_attempts = 3  # Number of retry attempts\n",
        "\n",
        "def establish_connection():\n",
        "    try:\n",
        "        # Establish connection\n",
        "        conn = snowflake.connector.connect(\n",
        "            user=user,\n",
        "            password=password,\n",
        "            account=account,\n",
        "            warehouse=warehouse,\n",
        "            database=database,\n",
        "            schema=schema,\n",
        "            role=role\n",
        "        )\n",
        "        return conn\n",
        "    except snowflake.connector.errors.OperationalError as e:\n",
        "        print(f\"Connection error: {e}\")\n",
        "        return None\n",
        "\n",
        "# Attempt to establish connection with retries\n",
        "for attempt in range(retry_attempts):\n",
        "    print(f\"Attempting to connect (Attempt {attempt + 1})...\")\n",
        "    connection = establish_connection()\n",
        "    if connection:\n",
        "        print(\"Connection established successfully!\")\n",
        "        break\n",
        "    else:\n",
        "        print(\"Retrying connection...\")\n",
        "else:\n",
        "    print(\"Failed to establish connection after multiple attempts.\")\n",
        "\n",
        "# If connection is successful, proceed with executing queries\n",
        "if connection:\n",
        "    # Create a cursor object\n",
        "    cur = connection.cursor()\n",
        "\n",
        "    # Execute a query to select data from the table\n",
        "    cur.execute('SELECT * FROM TIMESHEET.FAKEDATA.FINALDATA')\n",
        "\n",
        "    # Fetch the results\n",
        "    rows = cur.fetchall()\n",
        "\n",
        "    # Close the cursor and connection\n",
        "    cur.close()\n",
        "    connection.close()\n",
        "\n",
        "    # Convert the result into a pandas DataFrame for easier manipulation\n",
        "    df = pd.DataFrame(rows, columns=[x[0] for x in cur.description])\n",
        "    print(df.head())  # Display the first few rows of the DataFrame\n"
      ]
    },
    {
      "cell_type": "markdown",
      "metadata": {
        "id": "aWsb1xRr4jgL"
      },
      "source": [
        "EDA"
      ]
    },
    {
      "cell_type": "code",
      "execution_count": 16,
      "metadata": {
        "colab": {
          "base_uri": "https://localhost:8080/",
          "height": 516
        },
        "id": "dp0QYfb74jgO",
        "outputId": "78511e85-139e-477f-ead5-975f9b5416da"
      },
      "outputs": [
        {
          "data": {
            "text/html": [
              "<div>\n",
              "<style scoped>\n",
              "    .dataframe tbody tr th:only-of-type {\n",
              "        vertical-align: middle;\n",
              "    }\n",
              "\n",
              "    .dataframe tbody tr th {\n",
              "        vertical-align: top;\n",
              "    }\n",
              "\n",
              "    .dataframe thead th {\n",
              "        text-align: right;\n",
              "    }\n",
              "</style>\n",
              "<table border=\"1\" class=\"dataframe\">\n",
              "  <thead>\n",
              "    <tr style=\"text-align: right;\">\n",
              "      <th></th>\n",
              "      <th>NAME</th>\n",
              "      <th>EMAIL</th>\n",
              "      <th>USERTYPE</th>\n",
              "      <th>ROLE</th>\n",
              "      <th>PROJECT_NAME</th>\n",
              "      <th>PROJECTID</th>\n",
              "      <th>PROJECT_START_PERIOD</th>\n",
              "      <th>PROJECT_END_PERIOD</th>\n",
              "      <th>CATEGORY</th>\n",
              "      <th>ALLOCATION_START</th>\n",
              "      <th>...</th>\n",
              "      <th>SUN</th>\n",
              "      <th>FEEDBACK_START_PERIOD</th>\n",
              "      <th>FEEDBACK_END_PERIOD</th>\n",
              "      <th>Q1</th>\n",
              "      <th>Q2</th>\n",
              "      <th>Q3</th>\n",
              "      <th>Q4</th>\n",
              "      <th>Q5</th>\n",
              "      <th>Q6</th>\n",
              "      <th>FEEDBACK_COMMENTS</th>\n",
              "    </tr>\n",
              "  </thead>\n",
              "  <tbody>\n",
              "    <tr>\n",
              "      <th>0</th>\n",
              "      <td>Joseph Peters</td>\n",
              "      <td>abigail38@example.com</td>\n",
              "      <td>user</td>\n",
              "      <td>software engineer</td>\n",
              "      <td>Sheppard and Sons</td>\n",
              "      <td>b5a66681-6e00-4fd7-aa62-aa34b4f16d39</td>\n",
              "      <td>2024-03-02</td>\n",
              "      <td>2024-06-28</td>\n",
              "      <td>AI/ML</td>\n",
              "      <td>2024-03-20</td>\n",
              "      <td>...</td>\n",
              "      <td>3.0</td>\n",
              "      <td>2024-03-13</td>\n",
              "      <td>2024-05-05</td>\n",
              "      <td>2</td>\n",
              "      <td>1</td>\n",
              "      <td>4</td>\n",
              "      <td>3</td>\n",
              "      <td>1</td>\n",
              "      <td>5</td>\n",
              "      <td>Visit why hard because believe produce accept ...</td>\n",
              "    </tr>\n",
              "    <tr>\n",
              "      <th>1</th>\n",
              "      <td>Joseph Peters</td>\n",
              "      <td>abigail38@example.com</td>\n",
              "      <td>user</td>\n",
              "      <td>software engineer</td>\n",
              "      <td>Sheppard and Sons</td>\n",
              "      <td>b5a66681-6e00-4fd7-aa62-aa34b4f16d39</td>\n",
              "      <td>2024-03-02</td>\n",
              "      <td>2024-06-28</td>\n",
              "      <td>AI/ML</td>\n",
              "      <td>2024-03-20</td>\n",
              "      <td>...</td>\n",
              "      <td>1.0</td>\n",
              "      <td>2024-03-13</td>\n",
              "      <td>2024-05-05</td>\n",
              "      <td>2</td>\n",
              "      <td>1</td>\n",
              "      <td>4</td>\n",
              "      <td>3</td>\n",
              "      <td>1</td>\n",
              "      <td>5</td>\n",
              "      <td>Visit why hard because believe produce accept ...</td>\n",
              "    </tr>\n",
              "    <tr>\n",
              "      <th>2</th>\n",
              "      <td>Joseph Peters</td>\n",
              "      <td>abigail38@example.com</td>\n",
              "      <td>user</td>\n",
              "      <td>software engineer</td>\n",
              "      <td>Sheppard and Sons</td>\n",
              "      <td>b5a66681-6e00-4fd7-aa62-aa34b4f16d39</td>\n",
              "      <td>2024-03-02</td>\n",
              "      <td>2024-06-28</td>\n",
              "      <td>AI/ML</td>\n",
              "      <td>2024-03-20</td>\n",
              "      <td>...</td>\n",
              "      <td>3.0</td>\n",
              "      <td>2024-03-13</td>\n",
              "      <td>2024-05-05</td>\n",
              "      <td>2</td>\n",
              "      <td>1</td>\n",
              "      <td>4</td>\n",
              "      <td>3</td>\n",
              "      <td>1</td>\n",
              "      <td>5</td>\n",
              "      <td>Visit why hard because believe produce accept ...</td>\n",
              "    </tr>\n",
              "    <tr>\n",
              "      <th>3</th>\n",
              "      <td>Joseph Peters</td>\n",
              "      <td>abigail38@example.com</td>\n",
              "      <td>user</td>\n",
              "      <td>software engineer</td>\n",
              "      <td>Sheppard and Sons</td>\n",
              "      <td>b5a66681-6e00-4fd7-aa62-aa34b4f16d39</td>\n",
              "      <td>2024-03-02</td>\n",
              "      <td>2024-06-28</td>\n",
              "      <td>AI/ML</td>\n",
              "      <td>2024-03-20</td>\n",
              "      <td>...</td>\n",
              "      <td>8.0</td>\n",
              "      <td>2024-03-13</td>\n",
              "      <td>2024-05-05</td>\n",
              "      <td>2</td>\n",
              "      <td>1</td>\n",
              "      <td>4</td>\n",
              "      <td>3</td>\n",
              "      <td>1</td>\n",
              "      <td>5</td>\n",
              "      <td>Visit why hard because believe produce accept ...</td>\n",
              "    </tr>\n",
              "    <tr>\n",
              "      <th>4</th>\n",
              "      <td>Jennifer Welch</td>\n",
              "      <td>aclark@example.org</td>\n",
              "      <td>user</td>\n",
              "      <td>consultant</td>\n",
              "      <td>Mcguire-Hall</td>\n",
              "      <td>24ac78dd-f13b-4b1c-b268-f4005d794c8e</td>\n",
              "      <td>2024-02-10</td>\n",
              "      <td>2024-06-09</td>\n",
              "      <td>Mobile App</td>\n",
              "      <td>2024-03-18</td>\n",
              "      <td>...</td>\n",
              "      <td>0.0</td>\n",
              "      <td>2024-03-19</td>\n",
              "      <td>2024-04-17</td>\n",
              "      <td>3</td>\n",
              "      <td>5</td>\n",
              "      <td>2</td>\n",
              "      <td>2</td>\n",
              "      <td>2</td>\n",
              "      <td>1</td>\n",
              "      <td>Similar left must step sound price add. Voice ...</td>\n",
              "    </tr>\n",
              "  </tbody>\n",
              "</table>\n",
              "<p>5 rows × 31 columns</p>\n",
              "</div>"
            ],
            "text/plain": [
              "             NAME                  EMAIL USERTYPE               ROLE  \\\n",
              "0   Joseph Peters  abigail38@example.com     user  software engineer   \n",
              "1   Joseph Peters  abigail38@example.com     user  software engineer   \n",
              "2   Joseph Peters  abigail38@example.com     user  software engineer   \n",
              "3   Joseph Peters  abigail38@example.com     user  software engineer   \n",
              "4  Jennifer Welch     aclark@example.org     user         consultant   \n",
              "\n",
              "        PROJECT_NAME                             PROJECTID  \\\n",
              "0  Sheppard and Sons  b5a66681-6e00-4fd7-aa62-aa34b4f16d39   \n",
              "1  Sheppard and Sons  b5a66681-6e00-4fd7-aa62-aa34b4f16d39   \n",
              "2  Sheppard and Sons  b5a66681-6e00-4fd7-aa62-aa34b4f16d39   \n",
              "3  Sheppard and Sons  b5a66681-6e00-4fd7-aa62-aa34b4f16d39   \n",
              "4       Mcguire-Hall  24ac78dd-f13b-4b1c-b268-f4005d794c8e   \n",
              "\n",
              "  PROJECT_START_PERIOD PROJECT_END_PERIOD    CATEGORY ALLOCATION_START  ...  \\\n",
              "0           2024-03-02         2024-06-28       AI/ML       2024-03-20  ...   \n",
              "1           2024-03-02         2024-06-28       AI/ML       2024-03-20  ...   \n",
              "2           2024-03-02         2024-06-28       AI/ML       2024-03-20  ...   \n",
              "3           2024-03-02         2024-06-28       AI/ML       2024-03-20  ...   \n",
              "4           2024-02-10         2024-06-09  Mobile App       2024-03-18  ...   \n",
              "\n",
              "   SUN FEEDBACK_START_PERIOD FEEDBACK_END_PERIOD Q1 Q2  Q3  Q4  Q5  Q6  \\\n",
              "0  3.0            2024-03-13          2024-05-05  2  1   4   3   1   5   \n",
              "1  1.0            2024-03-13          2024-05-05  2  1   4   3   1   5   \n",
              "2  3.0            2024-03-13          2024-05-05  2  1   4   3   1   5   \n",
              "3  8.0            2024-03-13          2024-05-05  2  1   4   3   1   5   \n",
              "4  0.0            2024-03-19          2024-04-17  3  5   2   2   2   1   \n",
              "\n",
              "                                   FEEDBACK_COMMENTS  \n",
              "0  Visit why hard because believe produce accept ...  \n",
              "1  Visit why hard because believe produce accept ...  \n",
              "2  Visit why hard because believe produce accept ...  \n",
              "3  Visit why hard because believe produce accept ...  \n",
              "4  Similar left must step sound price add. Voice ...  \n",
              "\n",
              "[5 rows x 31 columns]"
            ]
          },
          "execution_count": 16,
          "metadata": {},
          "output_type": "execute_result"
        }
      ],
      "source": [
        "df.head(5)"
      ]
    },
    {
      "cell_type": "code",
      "execution_count": 17,
      "metadata": {
        "colab": {
          "base_uri": "https://localhost:8080/"
        },
        "id": "Fr9CNlQ-4jgP",
        "outputId": "744a40d0-258a-4c62-f7f7-a7ac4ada15d5"
      },
      "outputs": [
        {
          "name": "stdout",
          "output_type": "stream",
          "text": [
            "<class 'pandas.core.frame.DataFrame'>\n",
            "RangeIndex: 2243 entries, 0 to 2242\n",
            "Data columns (total 31 columns):\n",
            " #   Column                 Non-Null Count  Dtype  \n",
            "---  ------                 --------------  -----  \n",
            " 0   NAME                   2243 non-null   object \n",
            " 1   EMAIL                  2243 non-null   object \n",
            " 2   USERTYPE               2243 non-null   object \n",
            " 3   ROLE                   2243 non-null   object \n",
            " 4   PROJECT_NAME           2243 non-null   object \n",
            " 5   PROJECTID              2243 non-null   object \n",
            " 6   PROJECT_START_PERIOD   2243 non-null   object \n",
            " 7   PROJECT_END_PERIOD     2243 non-null   object \n",
            " 8   CATEGORY               2243 non-null   object \n",
            " 9   ALLOCATION_START       2243 non-null   object \n",
            " 10  ALLOCATION_END         2243 non-null   object \n",
            " 11  START_PERIOD           2078 non-null   object \n",
            " 12  END_PERIOD             2078 non-null   object \n",
            " 13  ACTIVITY               2078 non-null   object \n",
            " 14  COMMENTS               2078 non-null   object \n",
            " 15  MON                    2078 non-null   float64\n",
            " 16  TUE                    2078 non-null   float64\n",
            " 17  WED                    2078 non-null   float64\n",
            " 18  THUR                   2078 non-null   float64\n",
            " 19  FRI                    2078 non-null   float64\n",
            " 20  SAT                    2078 non-null   float64\n",
            " 21  SUN                    2078 non-null   float64\n",
            " 22  FEEDBACK_START_PERIOD  2243 non-null   object \n",
            " 23  FEEDBACK_END_PERIOD    2243 non-null   object \n",
            " 24  Q1                     2243 non-null   int64  \n",
            " 25  Q2                     2243 non-null   int64  \n",
            " 26  Q3                     2243 non-null   int64  \n",
            " 27  Q4                     2243 non-null   int64  \n",
            " 28  Q5                     2243 non-null   int64  \n",
            " 29  Q6                     2243 non-null   int64  \n",
            " 30  FEEDBACK_COMMENTS      2243 non-null   object \n",
            "dtypes: float64(7), int64(6), object(18)\n",
            "memory usage: 543.4+ KB\n"
          ]
        }
      ],
      "source": [
        "df.info()"
      ]
    },
    {
      "cell_type": "code",
      "execution_count": 18,
      "metadata": {
        "colab": {
          "base_uri": "https://localhost:8080/",
          "height": 516
        },
        "id": "EU5yG9ZD4jgQ",
        "outputId": "4b70a424-a341-451f-a5bd-15f7b47ce8e5"
      },
      "outputs": [
        {
          "data": {
            "text/html": [
              "<div>\n",
              "<style scoped>\n",
              "    .dataframe tbody tr th:only-of-type {\n",
              "        vertical-align: middle;\n",
              "    }\n",
              "\n",
              "    .dataframe tbody tr th {\n",
              "        vertical-align: top;\n",
              "    }\n",
              "\n",
              "    .dataframe thead th {\n",
              "        text-align: right;\n",
              "    }\n",
              "</style>\n",
              "<table border=\"1\" class=\"dataframe\">\n",
              "  <thead>\n",
              "    <tr style=\"text-align: right;\">\n",
              "      <th></th>\n",
              "      <th>NAME</th>\n",
              "      <th>EMAIL</th>\n",
              "      <th>USERTYPE</th>\n",
              "      <th>ROLE</th>\n",
              "      <th>PROJECT_NAME</th>\n",
              "      <th>PROJECTID</th>\n",
              "      <th>PROJECT_START_PERIOD</th>\n",
              "      <th>PROJECT_END_PERIOD</th>\n",
              "      <th>CATEGORY</th>\n",
              "      <th>ALLOCATION_START</th>\n",
              "      <th>...</th>\n",
              "      <th>SUN</th>\n",
              "      <th>FEEDBACK_START_PERIOD</th>\n",
              "      <th>FEEDBACK_END_PERIOD</th>\n",
              "      <th>Q1</th>\n",
              "      <th>Q2</th>\n",
              "      <th>Q3</th>\n",
              "      <th>Q4</th>\n",
              "      <th>Q5</th>\n",
              "      <th>Q6</th>\n",
              "      <th>FEEDBACK_COMMENTS</th>\n",
              "    </tr>\n",
              "  </thead>\n",
              "  <tbody>\n",
              "    <tr>\n",
              "      <th>0</th>\n",
              "      <td>Joseph Peters</td>\n",
              "      <td>abigail38@example.com</td>\n",
              "      <td>user</td>\n",
              "      <td>software engineer</td>\n",
              "      <td>Sheppard and Sons</td>\n",
              "      <td>b5a66681-6e00-4fd7-aa62-aa34b4f16d39</td>\n",
              "      <td>2024-03-02</td>\n",
              "      <td>2024-06-28</td>\n",
              "      <td>AI/ML</td>\n",
              "      <td>2024-03-20</td>\n",
              "      <td>...</td>\n",
              "      <td>3.0</td>\n",
              "      <td>2024-03-13</td>\n",
              "      <td>2024-05-05</td>\n",
              "      <td>2</td>\n",
              "      <td>1</td>\n",
              "      <td>4</td>\n",
              "      <td>3</td>\n",
              "      <td>1</td>\n",
              "      <td>5</td>\n",
              "      <td>Visit why hard because believe produce accept ...</td>\n",
              "    </tr>\n",
              "    <tr>\n",
              "      <th>1</th>\n",
              "      <td>Joseph Peters</td>\n",
              "      <td>abigail38@example.com</td>\n",
              "      <td>user</td>\n",
              "      <td>software engineer</td>\n",
              "      <td>Sheppard and Sons</td>\n",
              "      <td>b5a66681-6e00-4fd7-aa62-aa34b4f16d39</td>\n",
              "      <td>2024-03-02</td>\n",
              "      <td>2024-06-28</td>\n",
              "      <td>AI/ML</td>\n",
              "      <td>2024-03-20</td>\n",
              "      <td>...</td>\n",
              "      <td>1.0</td>\n",
              "      <td>2024-03-13</td>\n",
              "      <td>2024-05-05</td>\n",
              "      <td>2</td>\n",
              "      <td>1</td>\n",
              "      <td>4</td>\n",
              "      <td>3</td>\n",
              "      <td>1</td>\n",
              "      <td>5</td>\n",
              "      <td>Visit why hard because believe produce accept ...</td>\n",
              "    </tr>\n",
              "    <tr>\n",
              "      <th>2</th>\n",
              "      <td>Joseph Peters</td>\n",
              "      <td>abigail38@example.com</td>\n",
              "      <td>user</td>\n",
              "      <td>software engineer</td>\n",
              "      <td>Sheppard and Sons</td>\n",
              "      <td>b5a66681-6e00-4fd7-aa62-aa34b4f16d39</td>\n",
              "      <td>2024-03-02</td>\n",
              "      <td>2024-06-28</td>\n",
              "      <td>AI/ML</td>\n",
              "      <td>2024-03-20</td>\n",
              "      <td>...</td>\n",
              "      <td>3.0</td>\n",
              "      <td>2024-03-13</td>\n",
              "      <td>2024-05-05</td>\n",
              "      <td>2</td>\n",
              "      <td>1</td>\n",
              "      <td>4</td>\n",
              "      <td>3</td>\n",
              "      <td>1</td>\n",
              "      <td>5</td>\n",
              "      <td>Visit why hard because believe produce accept ...</td>\n",
              "    </tr>\n",
              "    <tr>\n",
              "      <th>3</th>\n",
              "      <td>Joseph Peters</td>\n",
              "      <td>abigail38@example.com</td>\n",
              "      <td>user</td>\n",
              "      <td>software engineer</td>\n",
              "      <td>Sheppard and Sons</td>\n",
              "      <td>b5a66681-6e00-4fd7-aa62-aa34b4f16d39</td>\n",
              "      <td>2024-03-02</td>\n",
              "      <td>2024-06-28</td>\n",
              "      <td>AI/ML</td>\n",
              "      <td>2024-03-20</td>\n",
              "      <td>...</td>\n",
              "      <td>8.0</td>\n",
              "      <td>2024-03-13</td>\n",
              "      <td>2024-05-05</td>\n",
              "      <td>2</td>\n",
              "      <td>1</td>\n",
              "      <td>4</td>\n",
              "      <td>3</td>\n",
              "      <td>1</td>\n",
              "      <td>5</td>\n",
              "      <td>Visit why hard because believe produce accept ...</td>\n",
              "    </tr>\n",
              "    <tr>\n",
              "      <th>4</th>\n",
              "      <td>Jennifer Welch</td>\n",
              "      <td>aclark@example.org</td>\n",
              "      <td>user</td>\n",
              "      <td>consultant</td>\n",
              "      <td>Mcguire-Hall</td>\n",
              "      <td>24ac78dd-f13b-4b1c-b268-f4005d794c8e</td>\n",
              "      <td>2024-02-10</td>\n",
              "      <td>2024-06-09</td>\n",
              "      <td>Mobile App</td>\n",
              "      <td>2024-03-18</td>\n",
              "      <td>...</td>\n",
              "      <td>0.0</td>\n",
              "      <td>2024-03-19</td>\n",
              "      <td>2024-04-17</td>\n",
              "      <td>3</td>\n",
              "      <td>5</td>\n",
              "      <td>2</td>\n",
              "      <td>2</td>\n",
              "      <td>2</td>\n",
              "      <td>1</td>\n",
              "      <td>Similar left must step sound price add. Voice ...</td>\n",
              "    </tr>\n",
              "  </tbody>\n",
              "</table>\n",
              "<p>5 rows × 31 columns</p>\n",
              "</div>"
            ],
            "text/plain": [
              "             NAME                  EMAIL USERTYPE               ROLE  \\\n",
              "0   Joseph Peters  abigail38@example.com     user  software engineer   \n",
              "1   Joseph Peters  abigail38@example.com     user  software engineer   \n",
              "2   Joseph Peters  abigail38@example.com     user  software engineer   \n",
              "3   Joseph Peters  abigail38@example.com     user  software engineer   \n",
              "4  Jennifer Welch     aclark@example.org     user         consultant   \n",
              "\n",
              "        PROJECT_NAME                             PROJECTID  \\\n",
              "0  Sheppard and Sons  b5a66681-6e00-4fd7-aa62-aa34b4f16d39   \n",
              "1  Sheppard and Sons  b5a66681-6e00-4fd7-aa62-aa34b4f16d39   \n",
              "2  Sheppard and Sons  b5a66681-6e00-4fd7-aa62-aa34b4f16d39   \n",
              "3  Sheppard and Sons  b5a66681-6e00-4fd7-aa62-aa34b4f16d39   \n",
              "4       Mcguire-Hall  24ac78dd-f13b-4b1c-b268-f4005d794c8e   \n",
              "\n",
              "  PROJECT_START_PERIOD PROJECT_END_PERIOD    CATEGORY ALLOCATION_START  ...  \\\n",
              "0           2024-03-02         2024-06-28       AI/ML       2024-03-20  ...   \n",
              "1           2024-03-02         2024-06-28       AI/ML       2024-03-20  ...   \n",
              "2           2024-03-02         2024-06-28       AI/ML       2024-03-20  ...   \n",
              "3           2024-03-02         2024-06-28       AI/ML       2024-03-20  ...   \n",
              "4           2024-02-10         2024-06-09  Mobile App       2024-03-18  ...   \n",
              "\n",
              "   SUN FEEDBACK_START_PERIOD FEEDBACK_END_PERIOD Q1 Q2  Q3  Q4  Q5  Q6  \\\n",
              "0  3.0            2024-03-13          2024-05-05  2  1   4   3   1   5   \n",
              "1  1.0            2024-03-13          2024-05-05  2  1   4   3   1   5   \n",
              "2  3.0            2024-03-13          2024-05-05  2  1   4   3   1   5   \n",
              "3  8.0            2024-03-13          2024-05-05  2  1   4   3   1   5   \n",
              "4  0.0            2024-03-19          2024-04-17  3  5   2   2   2   1   \n",
              "\n",
              "                                   FEEDBACK_COMMENTS  \n",
              "0  Visit why hard because believe produce accept ...  \n",
              "1  Visit why hard because believe produce accept ...  \n",
              "2  Visit why hard because believe produce accept ...  \n",
              "3  Visit why hard because believe produce accept ...  \n",
              "4  Similar left must step sound price add. Voice ...  \n",
              "\n",
              "[5 rows x 31 columns]"
            ]
          },
          "execution_count": 18,
          "metadata": {},
          "output_type": "execute_result"
        }
      ],
      "source": [
        "df.head()"
      ]
    },
    {
      "cell_type": "code",
      "execution_count": 19,
      "metadata": {
        "colab": {
          "base_uri": "https://localhost:8080/"
        },
        "id": "d01DvLZQ4jgQ",
        "outputId": "bd20eff6-cff7-4ede-ff50-94eecf08e79d"
      },
      "outputs": [
        {
          "data": {
            "text/plain": [
              "NAME                       0\n",
              "EMAIL                      0\n",
              "USERTYPE                   0\n",
              "ROLE                       0\n",
              "PROJECT_NAME               0\n",
              "PROJECTID                  0\n",
              "PROJECT_START_PERIOD       0\n",
              "PROJECT_END_PERIOD         0\n",
              "CATEGORY                   0\n",
              "ALLOCATION_START           0\n",
              "ALLOCATION_END             0\n",
              "START_PERIOD             165\n",
              "END_PERIOD               165\n",
              "ACTIVITY                 165\n",
              "COMMENTS                 165\n",
              "MON                      165\n",
              "TUE                      165\n",
              "WED                      165\n",
              "THUR                     165\n",
              "FRI                      165\n",
              "SAT                      165\n",
              "SUN                      165\n",
              "FEEDBACK_START_PERIOD      0\n",
              "FEEDBACK_END_PERIOD        0\n",
              "Q1                         0\n",
              "Q2                         0\n",
              "Q3                         0\n",
              "Q4                         0\n",
              "Q5                         0\n",
              "Q6                         0\n",
              "FEEDBACK_COMMENTS          0\n",
              "dtype: int64"
            ]
          },
          "execution_count": 19,
          "metadata": {},
          "output_type": "execute_result"
        }
      ],
      "source": [
        "df.isnull().sum()"
      ]
    },
    {
      "cell_type": "code",
      "execution_count": 20,
      "metadata": {
        "colab": {
          "base_uri": "https://localhost:8080/",
          "height": 300
        },
        "id": "flcdwPlP4jgR",
        "outputId": "c9d8d464-3ec3-433a-e1cf-8a42d17c40d0"
      },
      "outputs": [
        {
          "data": {
            "text/html": [
              "<div>\n",
              "<style scoped>\n",
              "    .dataframe tbody tr th:only-of-type {\n",
              "        vertical-align: middle;\n",
              "    }\n",
              "\n",
              "    .dataframe tbody tr th {\n",
              "        vertical-align: top;\n",
              "    }\n",
              "\n",
              "    .dataframe thead th {\n",
              "        text-align: right;\n",
              "    }\n",
              "</style>\n",
              "<table border=\"1\" class=\"dataframe\">\n",
              "  <thead>\n",
              "    <tr style=\"text-align: right;\">\n",
              "      <th></th>\n",
              "      <th>MON</th>\n",
              "      <th>TUE</th>\n",
              "      <th>WED</th>\n",
              "      <th>THUR</th>\n",
              "      <th>FRI</th>\n",
              "      <th>SAT</th>\n",
              "      <th>SUN</th>\n",
              "      <th>Q1</th>\n",
              "      <th>Q2</th>\n",
              "      <th>Q3</th>\n",
              "      <th>Q4</th>\n",
              "      <th>Q5</th>\n",
              "      <th>Q6</th>\n",
              "    </tr>\n",
              "  </thead>\n",
              "  <tbody>\n",
              "    <tr>\n",
              "      <th>count</th>\n",
              "      <td>2078.000000</td>\n",
              "      <td>2078.000000</td>\n",
              "      <td>2078.000000</td>\n",
              "      <td>2078.000000</td>\n",
              "      <td>2078.000000</td>\n",
              "      <td>2078.000000</td>\n",
              "      <td>2078.000000</td>\n",
              "      <td>2243.000000</td>\n",
              "      <td>2243.000000</td>\n",
              "      <td>2243.000000</td>\n",
              "      <td>2243.000000</td>\n",
              "      <td>2243.000000</td>\n",
              "      <td>2243.000000</td>\n",
              "    </tr>\n",
              "    <tr>\n",
              "      <th>mean</th>\n",
              "      <td>3.925409</td>\n",
              "      <td>3.943215</td>\n",
              "      <td>4.042830</td>\n",
              "      <td>3.836381</td>\n",
              "      <td>4.037536</td>\n",
              "      <td>4.065448</td>\n",
              "      <td>3.965833</td>\n",
              "      <td>3.008471</td>\n",
              "      <td>2.947392</td>\n",
              "      <td>3.116808</td>\n",
              "      <td>3.008471</td>\n",
              "      <td>2.972358</td>\n",
              "      <td>3.019617</td>\n",
              "    </tr>\n",
              "    <tr>\n",
              "      <th>std</th>\n",
              "      <td>2.515378</td>\n",
              "      <td>2.537091</td>\n",
              "      <td>2.552594</td>\n",
              "      <td>2.568313</td>\n",
              "      <td>2.606524</td>\n",
              "      <td>2.562000</td>\n",
              "      <td>2.550083</td>\n",
              "      <td>1.455991</td>\n",
              "      <td>1.406274</td>\n",
              "      <td>1.436338</td>\n",
              "      <td>1.413084</td>\n",
              "      <td>1.448535</td>\n",
              "      <td>1.392464</td>\n",
              "    </tr>\n",
              "    <tr>\n",
              "      <th>min</th>\n",
              "      <td>0.000000</td>\n",
              "      <td>0.000000</td>\n",
              "      <td>0.000000</td>\n",
              "      <td>0.000000</td>\n",
              "      <td>0.000000</td>\n",
              "      <td>0.000000</td>\n",
              "      <td>0.000000</td>\n",
              "      <td>1.000000</td>\n",
              "      <td>1.000000</td>\n",
              "      <td>1.000000</td>\n",
              "      <td>1.000000</td>\n",
              "      <td>1.000000</td>\n",
              "      <td>1.000000</td>\n",
              "    </tr>\n",
              "    <tr>\n",
              "      <th>25%</th>\n",
              "      <td>2.000000</td>\n",
              "      <td>2.000000</td>\n",
              "      <td>2.000000</td>\n",
              "      <td>2.000000</td>\n",
              "      <td>2.000000</td>\n",
              "      <td>2.000000</td>\n",
              "      <td>2.000000</td>\n",
              "      <td>2.000000</td>\n",
              "      <td>2.000000</td>\n",
              "      <td>2.000000</td>\n",
              "      <td>2.000000</td>\n",
              "      <td>2.000000</td>\n",
              "      <td>2.000000</td>\n",
              "    </tr>\n",
              "    <tr>\n",
              "      <th>50%</th>\n",
              "      <td>4.000000</td>\n",
              "      <td>4.000000</td>\n",
              "      <td>4.000000</td>\n",
              "      <td>4.000000</td>\n",
              "      <td>4.000000</td>\n",
              "      <td>4.000000</td>\n",
              "      <td>4.000000</td>\n",
              "      <td>3.000000</td>\n",
              "      <td>3.000000</td>\n",
              "      <td>3.000000</td>\n",
              "      <td>3.000000</td>\n",
              "      <td>3.000000</td>\n",
              "      <td>3.000000</td>\n",
              "    </tr>\n",
              "    <tr>\n",
              "      <th>75%</th>\n",
              "      <td>6.000000</td>\n",
              "      <td>6.000000</td>\n",
              "      <td>6.000000</td>\n",
              "      <td>6.000000</td>\n",
              "      <td>6.000000</td>\n",
              "      <td>6.000000</td>\n",
              "      <td>6.000000</td>\n",
              "      <td>4.000000</td>\n",
              "      <td>4.000000</td>\n",
              "      <td>4.000000</td>\n",
              "      <td>4.000000</td>\n",
              "      <td>4.000000</td>\n",
              "      <td>4.000000</td>\n",
              "    </tr>\n",
              "    <tr>\n",
              "      <th>max</th>\n",
              "      <td>8.000000</td>\n",
              "      <td>8.000000</td>\n",
              "      <td>8.000000</td>\n",
              "      <td>8.000000</td>\n",
              "      <td>8.000000</td>\n",
              "      <td>8.000000</td>\n",
              "      <td>8.000000</td>\n",
              "      <td>5.000000</td>\n",
              "      <td>5.000000</td>\n",
              "      <td>5.000000</td>\n",
              "      <td>5.000000</td>\n",
              "      <td>5.000000</td>\n",
              "      <td>5.000000</td>\n",
              "    </tr>\n",
              "  </tbody>\n",
              "</table>\n",
              "</div>"
            ],
            "text/plain": [
              "               MON          TUE          WED         THUR          FRI  \\\n",
              "count  2078.000000  2078.000000  2078.000000  2078.000000  2078.000000   \n",
              "mean      3.925409     3.943215     4.042830     3.836381     4.037536   \n",
              "std       2.515378     2.537091     2.552594     2.568313     2.606524   \n",
              "min       0.000000     0.000000     0.000000     0.000000     0.000000   \n",
              "25%       2.000000     2.000000     2.000000     2.000000     2.000000   \n",
              "50%       4.000000     4.000000     4.000000     4.000000     4.000000   \n",
              "75%       6.000000     6.000000     6.000000     6.000000     6.000000   \n",
              "max       8.000000     8.000000     8.000000     8.000000     8.000000   \n",
              "\n",
              "               SAT          SUN           Q1           Q2           Q3  \\\n",
              "count  2078.000000  2078.000000  2243.000000  2243.000000  2243.000000   \n",
              "mean      4.065448     3.965833     3.008471     2.947392     3.116808   \n",
              "std       2.562000     2.550083     1.455991     1.406274     1.436338   \n",
              "min       0.000000     0.000000     1.000000     1.000000     1.000000   \n",
              "25%       2.000000     2.000000     2.000000     2.000000     2.000000   \n",
              "50%       4.000000     4.000000     3.000000     3.000000     3.000000   \n",
              "75%       6.000000     6.000000     4.000000     4.000000     4.000000   \n",
              "max       8.000000     8.000000     5.000000     5.000000     5.000000   \n",
              "\n",
              "                Q4           Q5           Q6  \n",
              "count  2243.000000  2243.000000  2243.000000  \n",
              "mean      3.008471     2.972358     3.019617  \n",
              "std       1.413084     1.448535     1.392464  \n",
              "min       1.000000     1.000000     1.000000  \n",
              "25%       2.000000     2.000000     2.000000  \n",
              "50%       3.000000     3.000000     3.000000  \n",
              "75%       4.000000     4.000000     4.000000  \n",
              "max       5.000000     5.000000     5.000000  "
            ]
          },
          "execution_count": 20,
          "metadata": {},
          "output_type": "execute_result"
        }
      ],
      "source": [
        "df.describe()"
      ]
    },
    {
      "cell_type": "code",
      "execution_count": 21,
      "metadata": {
        "colab": {
          "base_uri": "https://localhost:8080/"
        },
        "id": "RqbWGNjh4jgR",
        "outputId": "d2968bb0-ce9d-411f-8d51-9e69e6d8a182"
      },
      "outputs": [
        {
          "data": {
            "text/plain": [
              "NAME                     1001\n",
              "EMAIL                     997\n",
              "USERTYPE                    1\n",
              "ROLE                        8\n",
              "PROJECT_NAME              425\n",
              "PROJECTID                 433\n",
              "PROJECT_START_PERIOD       61\n",
              "PROJECT_END_PERIOD         61\n",
              "CATEGORY                    4\n",
              "ALLOCATION_START           31\n",
              "ALLOCATION_END             31\n",
              "START_PERIOD                8\n",
              "END_PERIOD                  7\n",
              "ACTIVITY                    4\n",
              "COMMENTS                  861\n",
              "MON                         9\n",
              "TUE                         9\n",
              "WED                         9\n",
              "THUR                        9\n",
              "FRI                         9\n",
              "SAT                         9\n",
              "SUN                         9\n",
              "FEEDBACK_START_PERIOD      31\n",
              "FEEDBACK_END_PERIOD        30\n",
              "Q1                          5\n",
              "Q2                          5\n",
              "Q3                          5\n",
              "Q4                          5\n",
              "Q5                          5\n",
              "Q6                          5\n",
              "FEEDBACK_COMMENTS        1000\n",
              "dtype: int64"
            ]
          },
          "execution_count": 21,
          "metadata": {},
          "output_type": "execute_result"
        }
      ],
      "source": [
        "df.nunique()"
      ]
    },
    {
      "cell_type": "code",
      "execution_count": 22,
      "metadata": {
        "colab": {
          "base_uri": "https://localhost:8080/"
        },
        "id": "_9Ky-NNX4jgS",
        "outputId": "cf9b650e-3778-4634-9f42-83e7650f25fe"
      },
      "outputs": [
        {
          "data": {
            "text/plain": [
              "Index(['NAME', 'EMAIL', 'USERTYPE', 'ROLE', 'PROJECT_NAME', 'PROJECTID',\n",
              "       'PROJECT_START_PERIOD', 'PROJECT_END_PERIOD', 'CATEGORY',\n",
              "       'ALLOCATION_START', 'ALLOCATION_END', 'START_PERIOD', 'END_PERIOD',\n",
              "       'ACTIVITY', 'COMMENTS', 'MON', 'TUE', 'WED', 'THUR', 'FRI', 'SAT',\n",
              "       'SUN', 'FEEDBACK_START_PERIOD', 'FEEDBACK_END_PERIOD', 'Q1', 'Q2', 'Q3',\n",
              "       'Q4', 'Q5', 'Q6', 'FEEDBACK_COMMENTS'],\n",
              "      dtype='object')"
            ]
          },
          "execution_count": 22,
          "metadata": {},
          "output_type": "execute_result"
        }
      ],
      "source": [
        "df.columns"
      ]
    },
    {
      "cell_type": "code",
      "execution_count": 23,
      "metadata": {
        "colab": {
          "base_uri": "https://localhost:8080/",
          "height": 1000
        },
        "id": "ybpnWnq54jgS",
        "outputId": "e501c178-b9c6-46b9-89c4-e5f32125ca72"
      },
      "outputs": [
        {
          "name": "stdout",
          "output_type": "stream",
          "text": [
            "USERTYPE\n",
            "user    1.0\n",
            "Name: proportion, dtype: float64\n"
          ]
        },
        {
          "data": {
            "image/png": "[encoded data removed]",
            "text/plain": [
              "<Figure size 800x600 with 1 Axes>"
            ]
          },
          "metadata": {},
          "output_type": "display_data"
        },
        {
          "name": "stdout",
          "output_type": "stream",
          "text": [
            "ROLE\n",
            "intern               0.284440\n",
            "software engineer    0.251449\n",
            "consultant           0.232724\n",
            "tribe master         0.222916\n",
            "Intern               0.004458\n",
            "Consultant           0.002229\n",
            "Tribe Master         0.001337\n",
            "Software Engineer    0.000446\n",
            "Name: proportion, dtype: float64\n"
          ]
        },
        {
          "data": {
            "image/png": "[encoded data removed]",
            "text/plain": [
              "<Figure size 800x600 with 1 Axes>"
            ]
          },
          "metadata": {},
          "output_type": "display_data"
        },
        {
          "name": "stdout",
          "output_type": "stream",
          "text": [
            "CATEGORY\n",
            "Data Science       0.275970\n",
            "Mobile App         0.267945\n",
            "Web Development    0.267499\n",
            "AI/ML              0.188587\n",
            "Name: proportion, dtype: float64\n"
          ]
        },
        {
          "data": {
            "image/png": "[encoded data removed]",
            "text/plain": [
              "<Figure size 800x600 with 1 Axes>"
            ]
          },
          "metadata": {},
          "output_type": "display_data"
        },
        {
          "name": "stdout",
          "output_type": "stream",
          "text": [
            "               MON          TUE          WED         THUR          FRI  \\\n",
            "count  2078.000000  2078.000000  2078.000000  2078.000000  2078.000000   \n",
            "mean      3.925409     3.943215     4.042830     3.836381     4.037536   \n",
            "std       2.515378     2.537091     2.552594     2.568313     2.606524   \n",
            "min       0.000000     0.000000     0.000000     0.000000     0.000000   \n",
            "25%       2.000000     2.000000     2.000000     2.000000     2.000000   \n",
            "50%       4.000000     4.000000     4.000000     4.000000     4.000000   \n",
            "75%       6.000000     6.000000     6.000000     6.000000     6.000000   \n",
            "max       8.000000     8.000000     8.000000     8.000000     8.000000   \n",
            "\n",
            "               SAT          SUN  \n",
            "count  2078.000000  2078.000000  \n",
            "mean      4.065448     3.965833  \n",
            "std       2.562000     2.550083  \n",
            "min       0.000000     0.000000  \n",
            "25%       2.000000     2.000000  \n",
            "50%       4.000000     4.000000  \n",
            "75%       6.000000     6.000000  \n",
            "max       8.000000     8.000000  \n"
          ]
        },
        {
          "data": {
            "image/png": "[encoded data removed]",
            "text/plain": [
              "<Figure size 800x600 with 1 Axes>"
            ]
          },
          "metadata": {},
          "output_type": "display_data"
        },
        {
          "data": {
            "image/png": "[encoded data removed]",
            "text/plain": [
              "<Figure size 800x600 with 1 Axes>"
            ]
          },
          "metadata": {},
          "output_type": "display_data"
        },
        {
          "data": {
            "image/png": "[encoded data removed]",
            "text/plain": [
              "<Figure size 800x600 with 1 Axes>"
            ]
          },
          "metadata": {},
          "output_type": "display_data"
        },
        {
          "data": {
            "image/png": "[encoded data removed]",
            "text/plain": [
              "<Figure size 800x600 with 1 Axes>"
            ]
          },
          "metadata": {},
          "output_type": "display_data"
        },
        {
          "data": {
            "image/png": "[encoded data removed]",
            "text/plain": [
              "<Figure size 800x600 with 1 Axes>"
            ]
          },
          "metadata": {},
          "output_type": "display_data"
        },
        {
          "data": {
            "image/png": "[encoded data removed]",
            "text/plain": [
              "<Figure size 800x600 with 1 Axes>"
            ]
          },
          "metadata": {},
          "output_type": "display_data"
        },
        {
          "data": {
            "image/png": "[encoded data removed]",
            "text/plain": [
              "<Figure size 800x600 with 1 Axes>"
            ]
          },
          "metadata": {},
          "output_type": "display_data"
        }
      ],
      "source": [
        "import pandas as pd\n",
        "import matplotlib.pyplot as plt\n",
        "import seaborn as sns\n",
        "\n",
        "# Assuming df is your DataFrame containing the dataset\n",
        "# Perform univariate analysis for different types of variables\n",
        "\n",
        "# Categorical Variables\n",
        "categorical_vars = ['USERTYPE', 'ROLE', 'CATEGORY']\n",
        "for var in categorical_vars:\n",
        "    print(df[var].value_counts(normalize=True))  # Display frequency counts and percentages\n",
        "    plt.figure(figsize=(8, 6))\n",
        "    sns.countplot(x=var, data=df)\n",
        "    plt.title(f'Distribution of {var}')\n",
        "    plt.xticks(rotation=45)\n",
        "    plt.show()\n",
        "\n",
        "# Numerical Variables\n",
        "numerical_vars = ['MON', 'TUE', 'WED', 'THUR', 'FRI', 'SAT', 'SUN']\n",
        "print(df[numerical_vars].describe())  # Display descriptive statistics\n",
        "for var in numerical_vars:\n",
        "    plt.figure(figsize=(8, 6))\n",
        "    sns.histplot(data=df, x=var, kde=True)\n",
        "    plt.title(f'Distribution of {var}')\n",
        "    plt.show()\n",
        "\n",
        "# # Temporal Variables (assuming they are in datetime format)\n",
        "# temporal_vars = ['PROJECT_START_PERIOD', 'PROJECT_END_PERIOD', 'ALLOCATION_START', 'ALLOCATION_END',\n",
        "#                  'FEEDBACK_START_PERIOD', 'FEEDBACK_END_PERIOD']\n",
        "# for var in temporal_vars:\n",
        "#     df[var] = pd.to_datetime(df[var])  # Convert to datetime if not already\n",
        "#     df[var + '_year'] = df[var].dt.year  # Extract year component for analysis\n",
        "#     plt.figure(figsize=(8, 6))\n",
        "#     sns.countplot(x=var + '_year', data=df)\n",
        "#     plt.title(f'Frequency of {var} by Year')\n",
        "#     plt.xticks(rotation=45)\n",
        "#     plt.show()\n",
        "\n",
        "# Textual Variables\n",
        "textual_vars = ['COMMENTS', 'FEEDBACK_COMMENTS']\n",
        "# Perform text preprocessing and analysis as needed\n"
      ]
    },
    {
      "cell_type": "code",
      "execution_count": 24,
      "metadata": {
        "colab": {
          "base_uri": "https://localhost:8080/",
          "height": 699
        },
        "id": "egbMqsPS4jgT",
        "outputId": "64e3102f-0820-4f3e-89c6-037c1382bd1f"
      },
      "outputs": [
        {
          "data": {
            "image/png": "[encoded data removed]",
            "text/plain": [
              "<Figure size 1000x800 with 2 Axes>"
            ]
          },
          "metadata": {},
          "output_type": "display_data"
        }
      ],
      "source": [
        "import pandas as pd\n",
        "import seaborn as sns\n",
        "import matplotlib.pyplot as plt\n",
        "\n",
        "# Assuming df is your DataFrame containing the dataset\n",
        "# Select numerical columns for correlation analysis\n",
        "numerical_cols = ['MON', 'TUE', 'WED', 'THUR', 'FRI', 'SAT', 'SUN', 'Q1', 'Q2', 'Q3', 'Q4', 'Q5', 'Q6']\n",
        "\n",
        "# Compute the correlation matrix\n",
        "corr_matrix = df[numerical_cols].corr()\n",
        "\n",
        "# Plotting the correlation matrix using a heatmap\n",
        "plt.figure(figsize=(10, 8))\n",
        "sns.heatmap(corr_matrix, annot=True, cmap='coolwarm', fmt=\".2f\")\n",
        "plt.title('Correlation Matrix')\n",
        "plt.show()\n"
      ]
    },
    {
      "cell_type": "code",
      "execution_count": 25,
      "metadata": {
        "colab": {
          "base_uri": "https://localhost:8080/",
          "height": 516
        },
        "id": "7-kWJvjH4jgV",
        "outputId": "15e3ee86-6ff0-4609-8c2f-0c09c0e0f19f"
      },
      "outputs": [
        {
          "data": {
            "text/html": [
              "<div>\n",
              "<style scoped>\n",
              "    .dataframe tbody tr th:only-of-type {\n",
              "        vertical-align: middle;\n",
              "    }\n",
              "\n",
              "    .dataframe tbody tr th {\n",
              "        vertical-align: top;\n",
              "    }\n",
              "\n",
              "    .dataframe thead th {\n",
              "        text-align: right;\n",
              "    }\n",
              "</style>\n",
              "<table border=\"1\" class=\"dataframe\">\n",
              "  <thead>\n",
              "    <tr style=\"text-align: right;\">\n",
              "      <th></th>\n",
              "      <th>NAME</th>\n",
              "      <th>EMAIL</th>\n",
              "      <th>USERTYPE</th>\n",
              "      <th>ROLE</th>\n",
              "      <th>PROJECT_NAME</th>\n",
              "      <th>PROJECTID</th>\n",
              "      <th>PROJECT_START_PERIOD</th>\n",
              "      <th>PROJECT_END_PERIOD</th>\n",
              "      <th>CATEGORY</th>\n",
              "      <th>ALLOCATION_START</th>\n",
              "      <th>...</th>\n",
              "      <th>SUN</th>\n",
              "      <th>FEEDBACK_START_PERIOD</th>\n",
              "      <th>FEEDBACK_END_PERIOD</th>\n",
              "      <th>Q1</th>\n",
              "      <th>Q2</th>\n",
              "      <th>Q3</th>\n",
              "      <th>Q4</th>\n",
              "      <th>Q5</th>\n",
              "      <th>Q6</th>\n",
              "      <th>FEEDBACK_COMMENTS</th>\n",
              "    </tr>\n",
              "  </thead>\n",
              "  <tbody>\n",
              "    <tr>\n",
              "      <th>0</th>\n",
              "      <td>Joseph Peters</td>\n",
              "      <td>abigail38@example.com</td>\n",
              "      <td>user</td>\n",
              "      <td>software engineer</td>\n",
              "      <td>Sheppard and Sons</td>\n",
              "      <td>b5a66681-6e00-4fd7-aa62-aa34b4f16d39</td>\n",
              "      <td>2024-03-02</td>\n",
              "      <td>2024-06-28</td>\n",
              "      <td>AI/ML</td>\n",
              "      <td>2024-03-20</td>\n",
              "      <td>...</td>\n",
              "      <td>3.0</td>\n",
              "      <td>2024-03-13</td>\n",
              "      <td>2024-05-05</td>\n",
              "      <td>2</td>\n",
              "      <td>1</td>\n",
              "      <td>4</td>\n",
              "      <td>3</td>\n",
              "      <td>1</td>\n",
              "      <td>5</td>\n",
              "      <td>Visit why hard because believe produce accept ...</td>\n",
              "    </tr>\n",
              "    <tr>\n",
              "      <th>1</th>\n",
              "      <td>Joseph Peters</td>\n",
              "      <td>abigail38@example.com</td>\n",
              "      <td>user</td>\n",
              "      <td>software engineer</td>\n",
              "      <td>Sheppard and Sons</td>\n",
              "      <td>b5a66681-6e00-4fd7-aa62-aa34b4f16d39</td>\n",
              "      <td>2024-03-02</td>\n",
              "      <td>2024-06-28</td>\n",
              "      <td>AI/ML</td>\n",
              "      <td>2024-03-20</td>\n",
              "      <td>...</td>\n",
              "      <td>1.0</td>\n",
              "      <td>2024-03-13</td>\n",
              "      <td>2024-05-05</td>\n",
              "      <td>2</td>\n",
              "      <td>1</td>\n",
              "      <td>4</td>\n",
              "      <td>3</td>\n",
              "      <td>1</td>\n",
              "      <td>5</td>\n",
              "      <td>Visit why hard because believe produce accept ...</td>\n",
              "    </tr>\n",
              "    <tr>\n",
              "      <th>2</th>\n",
              "      <td>Joseph Peters</td>\n",
              "      <td>abigail38@example.com</td>\n",
              "      <td>user</td>\n",
              "      <td>software engineer</td>\n",
              "      <td>Sheppard and Sons</td>\n",
              "      <td>b5a66681-6e00-4fd7-aa62-aa34b4f16d39</td>\n",
              "      <td>2024-03-02</td>\n",
              "      <td>2024-06-28</td>\n",
              "      <td>AI/ML</td>\n",
              "      <td>2024-03-20</td>\n",
              "      <td>...</td>\n",
              "      <td>3.0</td>\n",
              "      <td>2024-03-13</td>\n",
              "      <td>2024-05-05</td>\n",
              "      <td>2</td>\n",
              "      <td>1</td>\n",
              "      <td>4</td>\n",
              "      <td>3</td>\n",
              "      <td>1</td>\n",
              "      <td>5</td>\n",
              "      <td>Visit why hard because believe produce accept ...</td>\n",
              "    </tr>\n",
              "    <tr>\n",
              "      <th>3</th>\n",
              "      <td>Joseph Peters</td>\n",
              "      <td>abigail38@example.com</td>\n",
              "      <td>user</td>\n",
              "      <td>software engineer</td>\n",
              "      <td>Sheppard and Sons</td>\n",
              "      <td>b5a66681-6e00-4fd7-aa62-aa34b4f16d39</td>\n",
              "      <td>2024-03-02</td>\n",
              "      <td>2024-06-28</td>\n",
              "      <td>AI/ML</td>\n",
              "      <td>2024-03-20</td>\n",
              "      <td>...</td>\n",
              "      <td>8.0</td>\n",
              "      <td>2024-03-13</td>\n",
              "      <td>2024-05-05</td>\n",
              "      <td>2</td>\n",
              "      <td>1</td>\n",
              "      <td>4</td>\n",
              "      <td>3</td>\n",
              "      <td>1</td>\n",
              "      <td>5</td>\n",
              "      <td>Visit why hard because believe produce accept ...</td>\n",
              "    </tr>\n",
              "    <tr>\n",
              "      <th>4</th>\n",
              "      <td>Jennifer Welch</td>\n",
              "      <td>aclark@example.org</td>\n",
              "      <td>user</td>\n",
              "      <td>consultant</td>\n",
              "      <td>Mcguire-Hall</td>\n",
              "      <td>24ac78dd-f13b-4b1c-b268-f4005d794c8e</td>\n",
              "      <td>2024-02-10</td>\n",
              "      <td>2024-06-09</td>\n",
              "      <td>Mobile App</td>\n",
              "      <td>2024-03-18</td>\n",
              "      <td>...</td>\n",
              "      <td>0.0</td>\n",
              "      <td>2024-03-19</td>\n",
              "      <td>2024-04-17</td>\n",
              "      <td>3</td>\n",
              "      <td>5</td>\n",
              "      <td>2</td>\n",
              "      <td>2</td>\n",
              "      <td>2</td>\n",
              "      <td>1</td>\n",
              "      <td>Similar left must step sound price add. Voice ...</td>\n",
              "    </tr>\n",
              "  </tbody>\n",
              "</table>\n",
              "<p>5 rows × 31 columns</p>\n",
              "</div>"
            ],
            "text/plain": [
              "             NAME                  EMAIL USERTYPE               ROLE  \\\n",
              "0   Joseph Peters  abigail38@example.com     user  software engineer   \n",
              "1   Joseph Peters  abigail38@example.com     user  software engineer   \n",
              "2   Joseph Peters  abigail38@example.com     user  software engineer   \n",
              "3   Joseph Peters  abigail38@example.com     user  software engineer   \n",
              "4  Jennifer Welch     aclark@example.org     user         consultant   \n",
              "\n",
              "        PROJECT_NAME                             PROJECTID  \\\n",
              "0  Sheppard and Sons  b5a66681-6e00-4fd7-aa62-aa34b4f16d39   \n",
              "1  Sheppard and Sons  b5a66681-6e00-4fd7-aa62-aa34b4f16d39   \n",
              "2  Sheppard and Sons  b5a66681-6e00-4fd7-aa62-aa34b4f16d39   \n",
              "3  Sheppard and Sons  b5a66681-6e00-4fd7-aa62-aa34b4f16d39   \n",
              "4       Mcguire-Hall  24ac78dd-f13b-4b1c-b268-f4005d794c8e   \n",
              "\n",
              "  PROJECT_START_PERIOD PROJECT_END_PERIOD    CATEGORY ALLOCATION_START  ...  \\\n",
              "0           2024-03-02         2024-06-28       AI/ML       2024-03-20  ...   \n",
              "1           2024-03-02         2024-06-28       AI/ML       2024-03-20  ...   \n",
              "2           2024-03-02         2024-06-28       AI/ML       2024-03-20  ...   \n",
              "3           2024-03-02         2024-06-28       AI/ML       2024-03-20  ...   \n",
              "4           2024-02-10         2024-06-09  Mobile App       2024-03-18  ...   \n",
              "\n",
              "   SUN FEEDBACK_START_PERIOD FEEDBACK_END_PERIOD Q1 Q2  Q3  Q4  Q5  Q6  \\\n",
              "0  3.0            2024-03-13          2024-05-05  2  1   4   3   1   5   \n",
              "1  1.0            2024-03-13          2024-05-05  2  1   4   3   1   5   \n",
              "2  3.0            2024-03-13          2024-05-05  2  1   4   3   1   5   \n",
              "3  8.0            2024-03-13          2024-05-05  2  1   4   3   1   5   \n",
              "4  0.0            2024-03-19          2024-04-17  3  5   2   2   2   1   \n",
              "\n",
              "                                   FEEDBACK_COMMENTS  \n",
              "0  Visit why hard because believe produce accept ...  \n",
              "1  Visit why hard because believe produce accept ...  \n",
              "2  Visit why hard because believe produce accept ...  \n",
              "3  Visit why hard because believe produce accept ...  \n",
              "4  Similar left must step sound price add. Voice ...  \n",
              "\n",
              "[5 rows x 31 columns]"
            ]
          },
          "execution_count": 25,
          "metadata": {},
          "output_type": "execute_result"
        }
      ],
      "source": [
        "df.head()"
      ]
    },
    {
      "cell_type": "markdown",
      "metadata": {
        "id": "GUsy1F4v4jgW"
      },
      "source": [
        "FEATURE ENGINEERING"
      ]
    },
    {
      "cell_type": "code",
      "execution_count": 26,
      "metadata": {
        "colab": {
          "base_uri": "https://localhost:8080/"
        },
        "id": "POmNZyNf4jgX",
        "outputId": "23c998aa-ac1f-43be-b1bd-72dad0cfd5dd"
      },
      "outputs": [
        {
          "name": "stdout",
          "output_type": "stream",
          "text": [
            "             NAME                  EMAIL USERTYPE               ROLE  \\\n",
            "0   Joseph Peters  abigail38@example.com     user  software engineer   \n",
            "1   Joseph Peters  abigail38@example.com     user  software engineer   \n",
            "2   Joseph Peters  abigail38@example.com     user  software engineer   \n",
            "3   Joseph Peters  abigail38@example.com     user  software engineer   \n",
            "4  Jennifer Welch     aclark@example.org     user         consultant   \n",
            "\n",
            "        PROJECT_NAME                             PROJECTID  \\\n",
            "0  Sheppard and Sons  b5a66681-6e00-4fd7-aa62-aa34b4f16d39   \n",
            "1  Sheppard and Sons  b5a66681-6e00-4fd7-aa62-aa34b4f16d39   \n",
            "2  Sheppard and Sons  b5a66681-6e00-4fd7-aa62-aa34b4f16d39   \n",
            "3  Sheppard and Sons  b5a66681-6e00-4fd7-aa62-aa34b4f16d39   \n",
            "4       Mcguire-Hall  24ac78dd-f13b-4b1c-b268-f4005d794c8e   \n",
            "\n",
            "  PROJECT_START_PERIOD PROJECT_END_PERIOD    CATEGORY ALLOCATION_START  ...  \\\n",
            "0           2024-03-02         2024-06-28       AI/ML       2024-03-20  ...   \n",
            "1           2024-03-02         2024-06-28       AI/ML       2024-03-20  ...   \n",
            "2           2024-03-02         2024-06-28       AI/ML       2024-03-20  ...   \n",
            "3           2024-03-02         2024-06-28       AI/ML       2024-03-20  ...   \n",
            "4           2024-02-10         2024-06-09  Mobile App       2024-03-18  ...   \n",
            "\n",
            "  FEEDBACK_START_PERIOD FEEDBACK_END_PERIOD Q1 Q2 Q3  Q4  Q5  Q6  \\\n",
            "0            2024-03-13          2024-05-05  2  1  4   3   1   5   \n",
            "1            2024-03-13          2024-05-05  2  1  4   3   1   5   \n",
            "2            2024-03-13          2024-05-05  2  1  4   3   1   5   \n",
            "3            2024-03-13          2024-05-05  2  1  4   3   1   5   \n",
            "4            2024-03-19          2024-04-17  3  5  2   2   2   1   \n",
            "\n",
            "                                   FEEDBACK_COMMENTS  TOTAL_WORKED_HOURS  \n",
            "0  Visit why hard because believe produce accept ...                27.0  \n",
            "1  Visit why hard because believe produce accept ...                15.0  \n",
            "2  Visit why hard because believe produce accept ...                35.0  \n",
            "3  Visit why hard because believe produce accept ...                35.0  \n",
            "4  Similar left must step sound price add. Voice ...                23.0  \n",
            "\n",
            "[5 rows x 32 columns]\n"
          ]
        }
      ],
      "source": [
        "df = pd.DataFrame(rows, columns=[x[0] for x in cur.description])\n",
        "\n",
        "    # Calculate total worked hours per week\n",
        "days_of_week = ['MON', 'TUE', 'WED', 'THUR', 'FRI', 'SAT', 'SUN']\n",
        "df['TOTAL_WORKED_HOURS'] = df[days_of_week].sum(axis=1)\n",
        "\n",
        "    # Display the first few rows of the DataFrame with the new column\n",
        "print(df.head())"
      ]
    },
    {
      "cell_type": "code",
      "execution_count": 27,
      "metadata": {
        "id": "N9PwKWoS4jgY"
      },
      "outputs": [],
      "source": [
        "df.to_csv('total_worked_hours.csv', index=False)\n"
      ]
    },
    {
      "cell_type": "code",
      "execution_count": 28,
      "metadata": {
        "colab": {
          "base_uri": "https://localhost:8080/"
        },
        "id": "MO6KfY3k4jgZ",
        "outputId": "9ddea4f5-6cd1-422b-bfed-252a24bd506f"
      },
      "outputs": [
        {
          "name": "stdout",
          "output_type": "stream",
          "text": [
            "             NAME                  EMAIL USERTYPE               ROLE  \\\n",
            "0   Joseph Peters  abigail38@example.com     user  software engineer   \n",
            "1   Joseph Peters  abigail38@example.com     user  software engineer   \n",
            "2   Joseph Peters  abigail38@example.com     user  software engineer   \n",
            "3   Joseph Peters  abigail38@example.com     user  software engineer   \n",
            "4  Jennifer Welch     aclark@example.org     user         consultant   \n",
            "\n",
            "        PROJECT_NAME                             PROJECTID  \\\n",
            "0  Sheppard and Sons  b5a66681-6e00-4fd7-aa62-aa34b4f16d39   \n",
            "1  Sheppard and Sons  b5a66681-6e00-4fd7-aa62-aa34b4f16d39   \n",
            "2  Sheppard and Sons  b5a66681-6e00-4fd7-aa62-aa34b4f16d39   \n",
            "3  Sheppard and Sons  b5a66681-6e00-4fd7-aa62-aa34b4f16d39   \n",
            "4       Mcguire-Hall  24ac78dd-f13b-4b1c-b268-f4005d794c8e   \n",
            "\n",
            "  PROJECT_START_PERIOD PROJECT_END_PERIOD   CATEGORY ALLOCATION_START  ...  \\\n",
            "0           2024-03-02         2024-06-28    Regular       2024-03-20  ...   \n",
            "1           2024-03-02         2024-06-28  Irregular       2024-03-20  ...   \n",
            "2           2024-03-02         2024-06-28    Regular       2024-03-20  ...   \n",
            "3           2024-03-02         2024-06-28    Regular       2024-03-20  ...   \n",
            "4           2024-02-10         2024-06-09    Regular       2024-03-18  ...   \n",
            "\n",
            "  FEEDBACK_START_PERIOD FEEDBACK_END_PERIOD Q1 Q2 Q3  Q4  Q5  Q6  \\\n",
            "0            2024-03-13          2024-05-05  2  1  4   3   1   5   \n",
            "1            2024-03-13          2024-05-05  2  1  4   3   1   5   \n",
            "2            2024-03-13          2024-05-05  2  1  4   3   1   5   \n",
            "3            2024-03-13          2024-05-05  2  1  4   3   1   5   \n",
            "4            2024-03-19          2024-04-17  3  5  2   2   2   1   \n",
            "\n",
            "                                   FEEDBACK_COMMENTS  TOTAL_WORKED_HOURS  \n",
            "0  Visit why hard because believe produce accept ...                27.0  \n",
            "1  Visit why hard because believe produce accept ...                15.0  \n",
            "2  Visit why hard because believe produce accept ...                35.0  \n",
            "3  Visit why hard because believe produce accept ...                35.0  \n",
            "4  Similar left must step sound price add. Voice ...                23.0  \n",
            "\n",
            "[5 rows x 32 columns]\n"
          ]
        }
      ],
      "source": [
        "def categorize_hours(total_hours):\n",
        "    if total_hours < 20:\n",
        "        return 'Irregular'\n",
        "    elif total_hours >= 20 and total_hours < 40:\n",
        "        return 'Regular'\n",
        "    else:\n",
        "        return 'Hard Worker'\n",
        "\n",
        "# Apply the categorize_hours function to the 'TOTAL_WORKED_HOURS' column\n",
        "df['CATEGORY'] = df['TOTAL_WORKED_HOURS'].apply(categorize_hours)\n",
        "\n",
        "# Display the DataFrame with the new 'CATEGORY' column\n",
        "print(df.head())\n"
      ]
    },
    {
      "cell_type": "code",
      "execution_count": 29,
      "metadata": {
        "colab": {
          "base_uri": "https://localhost:8080/"
        },
        "id": "rwsWBZhv4jga",
        "outputId": "ecbfaebb-1bc6-46f4-ab6b-ac23b89fa67b"
      },
      "outputs": [
        {
          "name": "stdout",
          "output_type": "stream",
          "text": [
            "Updated DataFrame saved as CSV file: categorized_hours.csv\n"
          ]
        }
      ],
      "source": [
        "df.to_csv('categorized_hours.csv', index=False)\n",
        "print(\"Updated DataFrame saved as CSV file: categorized_hours.csv\")"
      ]
    },
    {
      "cell_type": "code",
      "execution_count": 30,
      "metadata": {
        "colab": {
          "base_uri": "https://localhost:8080/",
          "height": 265
        },
        "id": "X_5HqzG74jga",
        "outputId": "e788244f-9734-40e4-bc9f-65e5a39cb4e5"
      },
      "outputs": [
        {
          "data": {
            "text/html": [
              "<div>\n",
              "<style scoped>\n",
              "    .dataframe tbody tr th:only-of-type {\n",
              "        vertical-align: middle;\n",
              "    }\n",
              "\n",
              "    .dataframe tbody tr th {\n",
              "        vertical-align: top;\n",
              "    }\n",
              "\n",
              "    .dataframe thead th {\n",
              "        text-align: right;\n",
              "    }\n",
              "</style>\n",
              "<table border=\"1\" class=\"dataframe\">\n",
              "  <thead>\n",
              "    <tr style=\"text-align: right;\">\n",
              "      <th></th>\n",
              "      <th>NAME</th>\n",
              "      <th>EMAIL</th>\n",
              "      <th>USERTYPE</th>\n",
              "      <th>ROLE</th>\n",
              "      <th>PROJECT_NAME</th>\n",
              "      <th>PROJECTID</th>\n",
              "      <th>PROJECT_START_PERIOD</th>\n",
              "      <th>PROJECT_END_PERIOD</th>\n",
              "      <th>CATEGORY</th>\n",
              "      <th>ALLOCATION_START</th>\n",
              "      <th>...</th>\n",
              "      <th>FEEDBACK_START_PERIOD</th>\n",
              "      <th>FEEDBACK_END_PERIOD</th>\n",
              "      <th>Q1</th>\n",
              "      <th>Q2</th>\n",
              "      <th>Q3</th>\n",
              "      <th>Q4</th>\n",
              "      <th>Q5</th>\n",
              "      <th>Q6</th>\n",
              "      <th>FEEDBACK_COMMENTS</th>\n",
              "      <th>TOTAL_WORKED_HOURS</th>\n",
              "    </tr>\n",
              "  </thead>\n",
              "  <tbody>\n",
              "    <tr>\n",
              "      <th>0</th>\n",
              "      <td>Joseph Peters</td>\n",
              "      <td>abigail38@example.com</td>\n",
              "      <td>user</td>\n",
              "      <td>software engineer</td>\n",
              "      <td>Sheppard and Sons</td>\n",
              "      <td>b5a66681-6e00-4fd7-aa62-aa34b4f16d39</td>\n",
              "      <td>2024-03-02</td>\n",
              "      <td>2024-06-28</td>\n",
              "      <td>Regular</td>\n",
              "      <td>2024-03-20</td>\n",
              "      <td>...</td>\n",
              "      <td>2024-03-13</td>\n",
              "      <td>2024-05-05</td>\n",
              "      <td>2</td>\n",
              "      <td>1</td>\n",
              "      <td>4</td>\n",
              "      <td>3</td>\n",
              "      <td>1</td>\n",
              "      <td>5</td>\n",
              "      <td>Visit why hard because believe produce accept ...</td>\n",
              "      <td>27.0</td>\n",
              "    </tr>\n",
              "    <tr>\n",
              "      <th>1</th>\n",
              "      <td>Joseph Peters</td>\n",
              "      <td>abigail38@example.com</td>\n",
              "      <td>user</td>\n",
              "      <td>software engineer</td>\n",
              "      <td>Sheppard and Sons</td>\n",
              "      <td>b5a66681-6e00-4fd7-aa62-aa34b4f16d39</td>\n",
              "      <td>2024-03-02</td>\n",
              "      <td>2024-06-28</td>\n",
              "      <td>Irregular</td>\n",
              "      <td>2024-03-20</td>\n",
              "      <td>...</td>\n",
              "      <td>2024-03-13</td>\n",
              "      <td>2024-05-05</td>\n",
              "      <td>2</td>\n",
              "      <td>1</td>\n",
              "      <td>4</td>\n",
              "      <td>3</td>\n",
              "      <td>1</td>\n",
              "      <td>5</td>\n",
              "      <td>Visit why hard because believe produce accept ...</td>\n",
              "      <td>15.0</td>\n",
              "    </tr>\n",
              "  </tbody>\n",
              "</table>\n",
              "<p>2 rows × 32 columns</p>\n",
              "</div>"
            ],
            "text/plain": [
              "            NAME                  EMAIL USERTYPE               ROLE  \\\n",
              "0  Joseph Peters  abigail38@example.com     user  software engineer   \n",
              "1  Joseph Peters  abigail38@example.com     user  software engineer   \n",
              "\n",
              "        PROJECT_NAME                             PROJECTID  \\\n",
              "0  Sheppard and Sons  b5a66681-6e00-4fd7-aa62-aa34b4f16d39   \n",
              "1  Sheppard and Sons  b5a66681-6e00-4fd7-aa62-aa34b4f16d39   \n",
              "\n",
              "  PROJECT_START_PERIOD PROJECT_END_PERIOD   CATEGORY ALLOCATION_START  ...  \\\n",
              "0           2024-03-02         2024-06-28    Regular       2024-03-20  ...   \n",
              "1           2024-03-02         2024-06-28  Irregular       2024-03-20  ...   \n",
              "\n",
              "  FEEDBACK_START_PERIOD FEEDBACK_END_PERIOD Q1 Q2 Q3  Q4  Q5  Q6  \\\n",
              "0            2024-03-13          2024-05-05  2  1  4   3   1   5   \n",
              "1            2024-03-13          2024-05-05  2  1  4   3   1   5   \n",
              "\n",
              "                                   FEEDBACK_COMMENTS  TOTAL_WORKED_HOURS  \n",
              "0  Visit why hard because believe produce accept ...                27.0  \n",
              "1  Visit why hard because believe produce accept ...                15.0  \n",
              "\n",
              "[2 rows x 32 columns]"
            ]
          },
          "execution_count": 30,
          "metadata": {},
          "output_type": "execute_result"
        }
      ],
      "source": [
        "df.head(2)"
      ]
    },
    {
      "cell_type": "code",
      "execution_count": 31,
      "metadata": {
        "colab": {
          "base_uri": "https://localhost:8080/"
        },
        "id": "bcMy8L5j4jgb",
        "outputId": "ce93e74d-5b05-4f03-b627-0dbafda87d7a"
      },
      "outputs": [
        {
          "data": {
            "text/plain": [
              "Index(['NAME', 'EMAIL', 'USERTYPE', 'ROLE', 'PROJECT_NAME', 'PROJECTID',\n",
              "       'PROJECT_START_PERIOD', 'PROJECT_END_PERIOD', 'CATEGORY',\n",
              "       'ALLOCATION_START', 'ALLOCATION_END', 'START_PERIOD', 'END_PERIOD',\n",
              "       'ACTIVITY', 'COMMENTS', 'MON', 'TUE', 'WED', 'THUR', 'FRI', 'SAT',\n",
              "       'SUN', 'FEEDBACK_START_PERIOD', 'FEEDBACK_END_PERIOD', 'Q1', 'Q2', 'Q3',\n",
              "       'Q4', 'Q5', 'Q6', 'FEEDBACK_COMMENTS', 'TOTAL_WORKED_HOURS'],\n",
              "      dtype='object')"
            ]
          },
          "execution_count": 31,
          "metadata": {},
          "output_type": "execute_result"
        }
      ],
      "source": [
        "df.columns"
      ]
    },
    {
      "cell_type": "code",
      "execution_count": 32,
      "metadata": {
        "id": "7RR0cYf44jgb"
      },
      "outputs": [],
      "source": [
        "removeColumns=['NAME', 'EMAIL', 'USERTYPE',  'PROJECTID',\n",
        "       'PROJECT_START_PERIOD', 'PROJECT_END_PERIOD',\n",
        "       'ALLOCATION_START', 'ALLOCATION_END', 'START_PERIOD', 'END_PERIOD',\n",
        "       'COMMENTS', 'FEEDBACK_START_PERIOD', 'FEEDBACK_END_PERIOD', 'Q1', 'Q2', 'Q3',\n",
        "       'Q4', 'Q5', 'Q6', 'FEEDBACK_COMMENTS','PROJECT_NAME']\n",
        "df1=df.copy()\n",
        "df1=df1.drop(columns=removeColumns)"
      ]
    },
    {
      "cell_type": "code",
      "execution_count": 33,
      "metadata": {
        "colab": {
          "base_uri": "https://localhost:8080/",
          "height": 423
        },
        "id": "t9IzxmHO4jgc",
        "outputId": "775a2344-1d26-452f-8a39-409f9e3db9d2"
      },
      "outputs": [
        {
          "data": {
            "text/html": [
              "<div>\n",
              "<style scoped>\n",
              "    .dataframe tbody tr th:only-of-type {\n",
              "        vertical-align: middle;\n",
              "    }\n",
              "\n",
              "    .dataframe tbody tr th {\n",
              "        vertical-align: top;\n",
              "    }\n",
              "\n",
              "    .dataframe thead th {\n",
              "        text-align: right;\n",
              "    }\n",
              "</style>\n",
              "<table border=\"1\" class=\"dataframe\">\n",
              "  <thead>\n",
              "    <tr style=\"text-align: right;\">\n",
              "      <th></th>\n",
              "      <th>ROLE</th>\n",
              "      <th>CATEGORY</th>\n",
              "      <th>ACTIVITY</th>\n",
              "      <th>MON</th>\n",
              "      <th>TUE</th>\n",
              "      <th>WED</th>\n",
              "      <th>THUR</th>\n",
              "      <th>FRI</th>\n",
              "      <th>SAT</th>\n",
              "      <th>SUN</th>\n",
              "      <th>TOTAL_WORKED_HOURS</th>\n",
              "    </tr>\n",
              "  </thead>\n",
              "  <tbody>\n",
              "    <tr>\n",
              "      <th>0</th>\n",
              "      <td>software engineer</td>\n",
              "      <td>Regular</td>\n",
              "      <td>Testing</td>\n",
              "      <td>8.0</td>\n",
              "      <td>3.0</td>\n",
              "      <td>3.0</td>\n",
              "      <td>5.0</td>\n",
              "      <td>0.0</td>\n",
              "      <td>5.0</td>\n",
              "      <td>3.0</td>\n",
              "      <td>27.0</td>\n",
              "    </tr>\n",
              "    <tr>\n",
              "      <th>1</th>\n",
              "      <td>software engineer</td>\n",
              "      <td>Irregular</td>\n",
              "      <td>Testing</td>\n",
              "      <td>6.0</td>\n",
              "      <td>0.0</td>\n",
              "      <td>1.0</td>\n",
              "      <td>2.0</td>\n",
              "      <td>3.0</td>\n",
              "      <td>2.0</td>\n",
              "      <td>1.0</td>\n",
              "      <td>15.0</td>\n",
              "    </tr>\n",
              "    <tr>\n",
              "      <th>2</th>\n",
              "      <td>software engineer</td>\n",
              "      <td>Regular</td>\n",
              "      <td>Documentation</td>\n",
              "      <td>8.0</td>\n",
              "      <td>7.0</td>\n",
              "      <td>8.0</td>\n",
              "      <td>1.0</td>\n",
              "      <td>3.0</td>\n",
              "      <td>5.0</td>\n",
              "      <td>3.0</td>\n",
              "      <td>35.0</td>\n",
              "    </tr>\n",
              "    <tr>\n",
              "      <th>3</th>\n",
              "      <td>software engineer</td>\n",
              "      <td>Regular</td>\n",
              "      <td>Documentation</td>\n",
              "      <td>4.0</td>\n",
              "      <td>4.0</td>\n",
              "      <td>4.0</td>\n",
              "      <td>3.0</td>\n",
              "      <td>4.0</td>\n",
              "      <td>8.0</td>\n",
              "      <td>8.0</td>\n",
              "      <td>35.0</td>\n",
              "    </tr>\n",
              "    <tr>\n",
              "      <th>4</th>\n",
              "      <td>consultant</td>\n",
              "      <td>Regular</td>\n",
              "      <td>Meetings</td>\n",
              "      <td>7.0</td>\n",
              "      <td>3.0</td>\n",
              "      <td>1.0</td>\n",
              "      <td>8.0</td>\n",
              "      <td>3.0</td>\n",
              "      <td>1.0</td>\n",
              "      <td>0.0</td>\n",
              "      <td>23.0</td>\n",
              "    </tr>\n",
              "    <tr>\n",
              "      <th>...</th>\n",
              "      <td>...</td>\n",
              "      <td>...</td>\n",
              "      <td>...</td>\n",
              "      <td>...</td>\n",
              "      <td>...</td>\n",
              "      <td>...</td>\n",
              "      <td>...</td>\n",
              "      <td>...</td>\n",
              "      <td>...</td>\n",
              "      <td>...</td>\n",
              "      <td>...</td>\n",
              "    </tr>\n",
              "    <tr>\n",
              "      <th>2238</th>\n",
              "      <td>software engineer</td>\n",
              "      <td>Regular</td>\n",
              "      <td>Testing</td>\n",
              "      <td>3.0</td>\n",
              "      <td>8.0</td>\n",
              "      <td>7.0</td>\n",
              "      <td>0.0</td>\n",
              "      <td>3.0</td>\n",
              "      <td>3.0</td>\n",
              "      <td>2.0</td>\n",
              "      <td>26.0</td>\n",
              "    </tr>\n",
              "    <tr>\n",
              "      <th>2239</th>\n",
              "      <td>software engineer</td>\n",
              "      <td>Regular</td>\n",
              "      <td>Documentation</td>\n",
              "      <td>8.0</td>\n",
              "      <td>8.0</td>\n",
              "      <td>0.0</td>\n",
              "      <td>8.0</td>\n",
              "      <td>1.0</td>\n",
              "      <td>7.0</td>\n",
              "      <td>6.0</td>\n",
              "      <td>38.0</td>\n",
              "    </tr>\n",
              "    <tr>\n",
              "      <th>2240</th>\n",
              "      <td>software engineer</td>\n",
              "      <td>Irregular</td>\n",
              "      <td>Testing</td>\n",
              "      <td>1.0</td>\n",
              "      <td>6.0</td>\n",
              "      <td>1.0</td>\n",
              "      <td>1.0</td>\n",
              "      <td>5.0</td>\n",
              "      <td>1.0</td>\n",
              "      <td>2.0</td>\n",
              "      <td>17.0</td>\n",
              "    </tr>\n",
              "    <tr>\n",
              "      <th>2241</th>\n",
              "      <td>software engineer</td>\n",
              "      <td>Hard Worker</td>\n",
              "      <td>Testing</td>\n",
              "      <td>2.0</td>\n",
              "      <td>5.0</td>\n",
              "      <td>6.0</td>\n",
              "      <td>6.0</td>\n",
              "      <td>7.0</td>\n",
              "      <td>7.0</td>\n",
              "      <td>7.0</td>\n",
              "      <td>40.0</td>\n",
              "    </tr>\n",
              "    <tr>\n",
              "      <th>2242</th>\n",
              "      <td>software engineer</td>\n",
              "      <td>Regular</td>\n",
              "      <td>Testing</td>\n",
              "      <td>4.0</td>\n",
              "      <td>8.0</td>\n",
              "      <td>7.0</td>\n",
              "      <td>5.0</td>\n",
              "      <td>3.0</td>\n",
              "      <td>1.0</td>\n",
              "      <td>7.0</td>\n",
              "      <td>35.0</td>\n",
              "    </tr>\n",
              "  </tbody>\n",
              "</table>\n",
              "<p>2243 rows × 11 columns</p>\n",
              "</div>"
            ],
            "text/plain": [
              "                   ROLE     CATEGORY       ACTIVITY  MON  TUE  WED  THUR  FRI  \\\n",
              "0     software engineer      Regular        Testing  8.0  3.0  3.0   5.0  0.0   \n",
              "1     software engineer    Irregular        Testing  6.0  0.0  1.0   2.0  3.0   \n",
              "2     software engineer      Regular  Documentation  8.0  7.0  8.0   1.0  3.0   \n",
              "3     software engineer      Regular  Documentation  4.0  4.0  4.0   3.0  4.0   \n",
              "4            consultant      Regular       Meetings  7.0  3.0  1.0   8.0  3.0   \n",
              "...                 ...          ...            ...  ...  ...  ...   ...  ...   \n",
              "2238  software engineer      Regular        Testing  3.0  8.0  7.0   0.0  3.0   \n",
              "2239  software engineer      Regular  Documentation  8.0  8.0  0.0   8.0  1.0   \n",
              "2240  software engineer    Irregular        Testing  1.0  6.0  1.0   1.0  5.0   \n",
              "2241  software engineer  Hard Worker        Testing  2.0  5.0  6.0   6.0  7.0   \n",
              "2242  software engineer      Regular        Testing  4.0  8.0  7.0   5.0  3.0   \n",
              "\n",
              "      SAT  SUN  TOTAL_WORKED_HOURS  \n",
              "0     5.0  3.0                27.0  \n",
              "1     2.0  1.0                15.0  \n",
              "2     5.0  3.0                35.0  \n",
              "3     8.0  8.0                35.0  \n",
              "4     1.0  0.0                23.0  \n",
              "...   ...  ...                 ...  \n",
              "2238  3.0  2.0                26.0  \n",
              "2239  7.0  6.0                38.0  \n",
              "2240  1.0  2.0                17.0  \n",
              "2241  7.0  7.0                40.0  \n",
              "2242  1.0  7.0                35.0  \n",
              "\n",
              "[2243 rows x 11 columns]"
            ]
          },
          "execution_count": 33,
          "metadata": {},
          "output_type": "execute_result"
        }
      ],
      "source": [
        "\n",
        "df1"
      ]
    },
    {
      "cell_type": "code",
      "execution_count": 34,
      "metadata": {
        "colab": {
          "base_uri": "https://localhost:8080/",
          "height": 206
        },
        "id": "dyZwmLBD4jgd",
        "outputId": "87497fa4-c068-4d49-807b-9b6e11be8316"
      },
      "outputs": [
        {
          "data": {
            "text/html": [
              "<div>\n",
              "<style scoped>\n",
              "    .dataframe tbody tr th:only-of-type {\n",
              "        vertical-align: middle;\n",
              "    }\n",
              "\n",
              "    .dataframe tbody tr th {\n",
              "        vertical-align: top;\n",
              "    }\n",
              "\n",
              "    .dataframe thead th {\n",
              "        text-align: right;\n",
              "    }\n",
              "</style>\n",
              "<table border=\"1\" class=\"dataframe\">\n",
              "  <thead>\n",
              "    <tr style=\"text-align: right;\">\n",
              "      <th></th>\n",
              "      <th>ROLE</th>\n",
              "      <th>CATEGORY</th>\n",
              "      <th>ACTIVITY</th>\n",
              "      <th>MON</th>\n",
              "      <th>TUE</th>\n",
              "      <th>WED</th>\n",
              "      <th>THUR</th>\n",
              "      <th>FRI</th>\n",
              "      <th>SAT</th>\n",
              "      <th>SUN</th>\n",
              "      <th>TOTAL_WORKED_HOURS</th>\n",
              "      <th>ROLE_ENCODED</th>\n",
              "      <th>ACTIVITY_ENCODED</th>\n",
              "    </tr>\n",
              "  </thead>\n",
              "  <tbody>\n",
              "    <tr>\n",
              "      <th>0</th>\n",
              "      <td>software engineer</td>\n",
              "      <td>Regular</td>\n",
              "      <td>Testing</td>\n",
              "      <td>8.0</td>\n",
              "      <td>3.0</td>\n",
              "      <td>3.0</td>\n",
              "      <td>5.0</td>\n",
              "      <td>0.0</td>\n",
              "      <td>5.0</td>\n",
              "      <td>3.0</td>\n",
              "      <td>27.0</td>\n",
              "      <td>2</td>\n",
              "      <td>3</td>\n",
              "    </tr>\n",
              "    <tr>\n",
              "      <th>1</th>\n",
              "      <td>software engineer</td>\n",
              "      <td>Irregular</td>\n",
              "      <td>Testing</td>\n",
              "      <td>6.0</td>\n",
              "      <td>0.0</td>\n",
              "      <td>1.0</td>\n",
              "      <td>2.0</td>\n",
              "      <td>3.0</td>\n",
              "      <td>2.0</td>\n",
              "      <td>1.0</td>\n",
              "      <td>15.0</td>\n",
              "      <td>2</td>\n",
              "      <td>3</td>\n",
              "    </tr>\n",
              "    <tr>\n",
              "      <th>2</th>\n",
              "      <td>software engineer</td>\n",
              "      <td>Regular</td>\n",
              "      <td>Documentation</td>\n",
              "      <td>8.0</td>\n",
              "      <td>7.0</td>\n",
              "      <td>8.0</td>\n",
              "      <td>1.0</td>\n",
              "      <td>3.0</td>\n",
              "      <td>5.0</td>\n",
              "      <td>3.0</td>\n",
              "      <td>35.0</td>\n",
              "      <td>2</td>\n",
              "      <td>1</td>\n",
              "    </tr>\n",
              "    <tr>\n",
              "      <th>3</th>\n",
              "      <td>software engineer</td>\n",
              "      <td>Regular</td>\n",
              "      <td>Documentation</td>\n",
              "      <td>4.0</td>\n",
              "      <td>4.0</td>\n",
              "      <td>4.0</td>\n",
              "      <td>3.0</td>\n",
              "      <td>4.0</td>\n",
              "      <td>8.0</td>\n",
              "      <td>8.0</td>\n",
              "      <td>35.0</td>\n",
              "      <td>2</td>\n",
              "      <td>1</td>\n",
              "    </tr>\n",
              "    <tr>\n",
              "      <th>4</th>\n",
              "      <td>consultant</td>\n",
              "      <td>Regular</td>\n",
              "      <td>Meetings</td>\n",
              "      <td>7.0</td>\n",
              "      <td>3.0</td>\n",
              "      <td>1.0</td>\n",
              "      <td>8.0</td>\n",
              "      <td>3.0</td>\n",
              "      <td>1.0</td>\n",
              "      <td>0.0</td>\n",
              "      <td>23.0</td>\n",
              "      <td>0</td>\n",
              "      <td>2</td>\n",
              "    </tr>\n",
              "  </tbody>\n",
              "</table>\n",
              "</div>"
            ],
            "text/plain": [
              "                ROLE   CATEGORY       ACTIVITY  MON  TUE  WED  THUR  FRI  SAT  \\\n",
              "0  software engineer    Regular        Testing  8.0  3.0  3.0   5.0  0.0  5.0   \n",
              "1  software engineer  Irregular        Testing  6.0  0.0  1.0   2.0  3.0  2.0   \n",
              "2  software engineer    Regular  Documentation  8.0  7.0  8.0   1.0  3.0  5.0   \n",
              "3  software engineer    Regular  Documentation  4.0  4.0  4.0   3.0  4.0  8.0   \n",
              "4         consultant    Regular       Meetings  7.0  3.0  1.0   8.0  3.0  1.0   \n",
              "\n",
              "   SUN  TOTAL_WORKED_HOURS  ROLE_ENCODED  ACTIVITY_ENCODED  \n",
              "0  3.0                27.0             2                 3  \n",
              "1  1.0                15.0             2                 3  \n",
              "2  3.0                35.0             2                 1  \n",
              "3  8.0                35.0             2                 1  \n",
              "4  0.0                23.0             0                 2  "
            ]
          },
          "execution_count": 34,
          "metadata": {},
          "output_type": "execute_result"
        }
      ],
      "source": [
        "from sklearn.preprocessing import LabelEncoder\n",
        "\n",
        "# Create a LabelEncoder object\n",
        "label_encoder = LabelEncoder()\n",
        "df1['ROLE'] = df1['ROLE'].str.lower()\n",
        "\n",
        "\n",
        "# Assume df is your DataFrame with the columns ROLE and CATEGORY\n",
        "df1['ROLE_ENCODED'] = label_encoder.fit_transform(df1['ROLE'])\n",
        "df1['ACTIVITY_ENCODED'] = label_encoder.fit_transform(df1['ACTIVITY'])\n",
        "\n",
        "# Display the updated DataFrame\n",
        "df1.head()"
      ]
    },
    {
      "cell_type": "code",
      "execution_count": 35,
      "metadata": {
        "id": "APh76hnQ4jge"
      },
      "outputs": [],
      "source": [
        "df1=df1.drop(columns=['ROLE','ACTIVITY'])"
      ]
    },
    {
      "cell_type": "code",
      "execution_count": 36,
      "metadata": {
        "colab": {
          "base_uri": "https://localhost:8080/"
        },
        "id": "_TVk5xJ94jge",
        "outputId": "dd70c3ea-edb9-48fa-a182-d26aaa5d3642"
      },
      "outputs": [
        {
          "data": {
            "text/plain": [
              "(2243, 11)"
            ]
          },
          "execution_count": 36,
          "metadata": {},
          "output_type": "execute_result"
        }
      ],
      "source": [
        "df1.shape"
      ]
    },
    {
      "cell_type": "code",
      "execution_count": 37,
      "metadata": {
        "id": "uT3-U5w_4jgf"
      },
      "outputs": [],
      "source": [
        "df1.drop_duplicates(keep='first', inplace=True)"
      ]
    },
    {
      "cell_type": "code",
      "execution_count": 38,
      "metadata": {
        "id": "7qee6ByZ4jgf"
      },
      "outputs": [],
      "source": [
        "df1.dropna(inplace=True)"
      ]
    },
    {
      "cell_type": "code",
      "execution_count": 39,
      "metadata": {
        "id": "G0zFJsRJ4jgf"
      },
      "outputs": [],
      "source": [
        "from sklearn.preprocessing import LabelEncoder\n",
        "\n",
        "# Assuming 'CATEGORY' is the column you want to label encode\n",
        "label_encoder = LabelEncoder()\n",
        "y_encoded = label_encoder.fit_transform(df1['CATEGORY'])\n",
        "\n",
        "# Assign the encoded target variable to y\n",
        "y = y_encoded\n",
        "\n",
        "# Drop the 'CATEGORY' column from X\n",
        "X = df1.drop(columns='CATEGORY')\n"
      ]
    },
    {
      "cell_type": "code",
      "execution_count": 40,
      "metadata": {
        "colab": {
          "base_uri": "https://localhost:8080/",
          "height": 423
        },
        "id": "aDxCDWyh4jgg",
        "outputId": "04478f2f-ca5d-49ee-8920-d49310fcd224"
      },
      "outputs": [
        {
          "data": {
            "text/html": [
              "<div>\n",
              "<style scoped>\n",
              "    .dataframe tbody tr th:only-of-type {\n",
              "        vertical-align: middle;\n",
              "    }\n",
              "\n",
              "    .dataframe tbody tr th {\n",
              "        vertical-align: top;\n",
              "    }\n",
              "\n",
              "    .dataframe thead th {\n",
              "        text-align: right;\n",
              "    }\n",
              "</style>\n",
              "<table border=\"1\" class=\"dataframe\">\n",
              "  <thead>\n",
              "    <tr style=\"text-align: right;\">\n",
              "      <th></th>\n",
              "      <th>CATEGORY</th>\n",
              "      <th>MON</th>\n",
              "      <th>TUE</th>\n",
              "      <th>WED</th>\n",
              "      <th>THUR</th>\n",
              "      <th>FRI</th>\n",
              "      <th>SAT</th>\n",
              "      <th>SUN</th>\n",
              "      <th>TOTAL_WORKED_HOURS</th>\n",
              "      <th>ROLE_ENCODED</th>\n",
              "      <th>ACTIVITY_ENCODED</th>\n",
              "    </tr>\n",
              "  </thead>\n",
              "  <tbody>\n",
              "    <tr>\n",
              "      <th>0</th>\n",
              "      <td>Regular</td>\n",
              "      <td>8.0</td>\n",
              "      <td>3.0</td>\n",
              "      <td>3.0</td>\n",
              "      <td>5.0</td>\n",
              "      <td>0.0</td>\n",
              "      <td>5.0</td>\n",
              "      <td>3.0</td>\n",
              "      <td>27.0</td>\n",
              "      <td>2</td>\n",
              "      <td>3</td>\n",
              "    </tr>\n",
              "    <tr>\n",
              "      <th>1</th>\n",
              "      <td>Irregular</td>\n",
              "      <td>6.0</td>\n",
              "      <td>0.0</td>\n",
              "      <td>1.0</td>\n",
              "      <td>2.0</td>\n",
              "      <td>3.0</td>\n",
              "      <td>2.0</td>\n",
              "      <td>1.0</td>\n",
              "      <td>15.0</td>\n",
              "      <td>2</td>\n",
              "      <td>3</td>\n",
              "    </tr>\n",
              "    <tr>\n",
              "      <th>2</th>\n",
              "      <td>Regular</td>\n",
              "      <td>8.0</td>\n",
              "      <td>7.0</td>\n",
              "      <td>8.0</td>\n",
              "      <td>1.0</td>\n",
              "      <td>3.0</td>\n",
              "      <td>5.0</td>\n",
              "      <td>3.0</td>\n",
              "      <td>35.0</td>\n",
              "      <td>2</td>\n",
              "      <td>1</td>\n",
              "    </tr>\n",
              "    <tr>\n",
              "      <th>3</th>\n",
              "      <td>Regular</td>\n",
              "      <td>4.0</td>\n",
              "      <td>4.0</td>\n",
              "      <td>4.0</td>\n",
              "      <td>3.0</td>\n",
              "      <td>4.0</td>\n",
              "      <td>8.0</td>\n",
              "      <td>8.0</td>\n",
              "      <td>35.0</td>\n",
              "      <td>2</td>\n",
              "      <td>1</td>\n",
              "    </tr>\n",
              "    <tr>\n",
              "      <th>4</th>\n",
              "      <td>Regular</td>\n",
              "      <td>7.0</td>\n",
              "      <td>3.0</td>\n",
              "      <td>1.0</td>\n",
              "      <td>8.0</td>\n",
              "      <td>3.0</td>\n",
              "      <td>1.0</td>\n",
              "      <td>0.0</td>\n",
              "      <td>23.0</td>\n",
              "      <td>0</td>\n",
              "      <td>2</td>\n",
              "    </tr>\n",
              "    <tr>\n",
              "      <th>...</th>\n",
              "      <td>...</td>\n",
              "      <td>...</td>\n",
              "      <td>...</td>\n",
              "      <td>...</td>\n",
              "      <td>...</td>\n",
              "      <td>...</td>\n",
              "      <td>...</td>\n",
              "      <td>...</td>\n",
              "      <td>...</td>\n",
              "      <td>...</td>\n",
              "      <td>...</td>\n",
              "    </tr>\n",
              "    <tr>\n",
              "      <th>2235</th>\n",
              "      <td>Regular</td>\n",
              "      <td>4.0</td>\n",
              "      <td>3.0</td>\n",
              "      <td>6.0</td>\n",
              "      <td>0.0</td>\n",
              "      <td>8.0</td>\n",
              "      <td>5.0</td>\n",
              "      <td>4.0</td>\n",
              "      <td>30.0</td>\n",
              "      <td>2</td>\n",
              "      <td>3</td>\n",
              "    </tr>\n",
              "    <tr>\n",
              "      <th>2236</th>\n",
              "      <td>Regular</td>\n",
              "      <td>5.0</td>\n",
              "      <td>5.0</td>\n",
              "      <td>0.0</td>\n",
              "      <td>8.0</td>\n",
              "      <td>1.0</td>\n",
              "      <td>1.0</td>\n",
              "      <td>8.0</td>\n",
              "      <td>28.0</td>\n",
              "      <td>2</td>\n",
              "      <td>3</td>\n",
              "    </tr>\n",
              "    <tr>\n",
              "      <th>2240</th>\n",
              "      <td>Irregular</td>\n",
              "      <td>1.0</td>\n",
              "      <td>6.0</td>\n",
              "      <td>1.0</td>\n",
              "      <td>1.0</td>\n",
              "      <td>5.0</td>\n",
              "      <td>1.0</td>\n",
              "      <td>2.0</td>\n",
              "      <td>17.0</td>\n",
              "      <td>2</td>\n",
              "      <td>3</td>\n",
              "    </tr>\n",
              "    <tr>\n",
              "      <th>2241</th>\n",
              "      <td>Hard Worker</td>\n",
              "      <td>2.0</td>\n",
              "      <td>5.0</td>\n",
              "      <td>6.0</td>\n",
              "      <td>6.0</td>\n",
              "      <td>7.0</td>\n",
              "      <td>7.0</td>\n",
              "      <td>7.0</td>\n",
              "      <td>40.0</td>\n",
              "      <td>2</td>\n",
              "      <td>3</td>\n",
              "    </tr>\n",
              "    <tr>\n",
              "      <th>2242</th>\n",
              "      <td>Regular</td>\n",
              "      <td>4.0</td>\n",
              "      <td>8.0</td>\n",
              "      <td>7.0</td>\n",
              "      <td>5.0</td>\n",
              "      <td>3.0</td>\n",
              "      <td>1.0</td>\n",
              "      <td>7.0</td>\n",
              "      <td>35.0</td>\n",
              "      <td>2</td>\n",
              "      <td>3</td>\n",
              "    </tr>\n",
              "  </tbody>\n",
              "</table>\n",
              "<p>1588 rows × 11 columns</p>\n",
              "</div>"
            ],
            "text/plain": [
              "         CATEGORY  MON  TUE  WED  THUR  FRI  SAT  SUN  TOTAL_WORKED_HOURS  \\\n",
              "0         Regular  8.0  3.0  3.0   5.0  0.0  5.0  3.0                27.0   \n",
              "1       Irregular  6.0  0.0  1.0   2.0  3.0  2.0  1.0                15.0   \n",
              "2         Regular  8.0  7.0  8.0   1.0  3.0  5.0  3.0                35.0   \n",
              "3         Regular  4.0  4.0  4.0   3.0  4.0  8.0  8.0                35.0   \n",
              "4         Regular  7.0  3.0  1.0   8.0  3.0  1.0  0.0                23.0   \n",
              "...           ...  ...  ...  ...   ...  ...  ...  ...                 ...   \n",
              "2235      Regular  4.0  3.0  6.0   0.0  8.0  5.0  4.0                30.0   \n",
              "2236      Regular  5.0  5.0  0.0   8.0  1.0  1.0  8.0                28.0   \n",
              "2240    Irregular  1.0  6.0  1.0   1.0  5.0  1.0  2.0                17.0   \n",
              "2241  Hard Worker  2.0  5.0  6.0   6.0  7.0  7.0  7.0                40.0   \n",
              "2242      Regular  4.0  8.0  7.0   5.0  3.0  1.0  7.0                35.0   \n",
              "\n",
              "      ROLE_ENCODED  ACTIVITY_ENCODED  \n",
              "0                2                 3  \n",
              "1                2                 3  \n",
              "2                2                 1  \n",
              "3                2                 1  \n",
              "4                0                 2  \n",
              "...            ...               ...  \n",
              "2235             2                 3  \n",
              "2236             2                 3  \n",
              "2240             2                 3  \n",
              "2241             2                 3  \n",
              "2242             2                 3  \n",
              "\n",
              "[1588 rows x 11 columns]"
            ]
          },
          "execution_count": 40,
          "metadata": {},
          "output_type": "execute_result"
        }
      ],
      "source": [
        "df1"
      ]
    },
    {
      "cell_type": "code",
      "execution_count": 41,
      "metadata": {
        "colab": {
          "base_uri": "https://localhost:8080/"
        },
        "id": "-8jFpBCM4jgg",
        "outputId": "568af103-ba0a-474b-af9d-18ec39bed05e"
      },
      "outputs": [
        {
          "data": {
            "text/plain": [
              "Index(['MON', 'TUE', 'WED', 'THUR', 'FRI', 'SAT', 'SUN', 'TOTAL_WORKED_HOURS',\n",
              "       'ROLE_ENCODED', 'ACTIVITY_ENCODED'],\n",
              "      dtype='object')"
            ]
          },
          "execution_count": 41,
          "metadata": {},
          "output_type": "execute_result"
        }
      ],
      "source": [
        "X.columns"
      ]
    },
    {
      "cell_type": "code",
      "execution_count": 42,
      "metadata": {
        "colab": {
          "base_uri": "https://localhost:8080/"
        },
        "id": "N6Ov-EM44jgh",
        "outputId": "66e2e782-3668-416f-f06a-039b415528ae"
      },
      "outputs": [
        {
          "data": {
            "text/plain": [
              "0"
            ]
          },
          "execution_count": 42,
          "metadata": {},
          "output_type": "execute_result"
        }
      ],
      "source": [
        "X.duplicated().sum()"
      ]
    },
    {
      "cell_type": "code",
      "execution_count": 43,
      "metadata": {
        "id": "ZBvfjjes4jgh"
      },
      "outputs": [],
      "source": [
        "from sklearn.ensemble import RandomForestClassifier\n",
        "from sklearn.model_selection import train_test_split\n",
        "from sklearn.metrics import accuracy_score, classification_report\n"
      ]
    },
    {
      "cell_type": "code",
      "execution_count": 44,
      "metadata": {
        "id": "qULXaQMV4jgi"
      },
      "outputs": [],
      "source": [
        "for column in df1.columns:\n",
        "    df1[column] = label_encoder.fit_transform(df1[column])"
      ]
    },
    {
      "cell_type": "code",
      "execution_count": 45,
      "metadata": {
        "id": "5qi5iegu4jgi"
      },
      "outputs": [],
      "source": [
        "\n",
        "# Split the data into training and testing sets\n",
        "X_train, X_test, y_train, y_test = train_test_split(X, y, test_size=0.1, random_state=42)\n"
      ]
    },
    {
      "cell_type": "code",
      "execution_count": 46,
      "metadata": {
        "colab": {
          "base_uri": "https://localhost:8080/"
        },
        "id": "Nu4OFNYO4jgi",
        "outputId": "c4ebd566-9bd6-485b-c4c3-c0340bf8dd0c"
      },
      "outputs": [
        {
          "data": {
            "text/plain": [
              "array([1, 2, 2, ..., 2, 2, 2])"
            ]
          },
          "execution_count": 46,
          "metadata": {},
          "output_type": "execute_result"
        }
      ],
      "source": [
        "y_train"
      ]
    },
    {
      "cell_type": "code",
      "execution_count": 47,
      "metadata": {
        "colab": {
          "base_uri": "https://localhost:8080/"
        },
        "id": "ZgKypuSX-s5c",
        "outputId": "0ee0fa71-652c-4ce7-a261-199fd41fe042"
      },
      "outputs": [
        {
          "name": "stdout",
          "output_type": "stream",
          "text": [
            "Accuracy: 0.86\n",
            "Classification Report:\n",
            "              precision    recall  f1-score   support\n",
            "\n",
            "           0       0.80      1.00      0.89         4\n",
            "           1       0.00      0.00      0.00        21\n",
            "           2       0.86      0.99      0.92       134\n",
            "\n",
            "    accuracy                           0.86       159\n",
            "   macro avg       0.55      0.66      0.60       159\n",
            "weighted avg       0.75      0.86      0.80       159\n",
            "\n"
          ]
        },
        {
          "name": "stderr",
          "output_type": "stream",
          "text": [
            "c:\\Users\\MithunM\\AppData\\Local\\Programs\\Python\\Python311\\Lib\\site-packages\\sklearn\\metrics\\_classification.py:1509: UndefinedMetricWarning: Precision is ill-defined and being set to 0.0 in labels with no predicted samples. Use `zero_division` parameter to control this behavior.\n",
            "  _warn_prf(average, modifier, f\"{metric.capitalize()} is\", len(result))\n",
            "c:\\Users\\MithunM\\AppData\\Local\\Programs\\Python\\Python311\\Lib\\site-packages\\sklearn\\metrics\\_classification.py:1509: UndefinedMetricWarning: Precision is ill-defined and being set to 0.0 in labels with no predicted samples. Use `zero_division` parameter to control this behavior.\n",
            "  _warn_prf(average, modifier, f\"{metric.capitalize()} is\", len(result))\n",
            "c:\\Users\\MithunM\\AppData\\Local\\Programs\\Python\\Python311\\Lib\\site-packages\\sklearn\\metrics\\_classification.py:1509: UndefinedMetricWarning: Precision is ill-defined and being set to 0.0 in labels with no predicted samples. Use `zero_division` parameter to control this behavior.\n",
            "  _warn_prf(average, modifier, f\"{metric.capitalize()} is\", len(result))\n"
          ]
        }
      ],
      "source": [
        "# Assuming y_train contains the target labels\n",
        "#naive bayes\n",
        "# Introduce class imbalance by reducing the representation of a certain class\n",
        "# For example, if the class of interest is labeled as 1:\n",
        "from sklearn.naive_bayes import GaussianNB\n",
        "nb_classifier = GaussianNB()\n",
        "\n",
        "X_train_imbalanced = X_train[y_train != 1]\n",
        "y_train_imbalanced = y_train[y_train != 1]\n",
        "\n",
        "# Train the classifier using the imbalanced training data\n",
        "nb_classifier.fit(X_train_imbalanced, y_train_imbalanced)\n",
        "\n",
        "# Make predictions on the testing data\n",
        "y_pred = nb_classifier.predict(X_test)\n",
        "\n",
        "# Evaluate the model\n",
        "accuracy = accuracy_score(y_test, y_pred)\n",
        "print(f'Accuracy: {accuracy:.2f}')\n",
        "\n",
        "# Generate a classification report\n",
        "report = classification_report(y_test, y_pred)\n",
        "print('Classification Report:')\n",
        "print(report)\n"
      ]
    },
    {
      "cell_type": "code",
      "execution_count": 48,
      "metadata": {
        "id": "E3qbDrw64jgj"
      },
      "outputs": [],
      "source": [
        "\n",
        "# import pandas as pd\n",
        "# from sklearn.model_selection import train_test_split\n",
        "# from sklearn.naive_bayes import GaussianNB\n",
        "# from sklearn.metrics import accuracy_score, classification_report\n",
        "\n",
        "\n",
        "\n",
        "# # Initialize the Naive Bayes classifier\n",
        "# nb_classifier = GaussianNB()\n",
        "\n",
        "# # Train the classifier using the training data\n",
        "# nb_classifier.fit(X_train, y_train)\n",
        "\n",
        "# # Make predictions on the testing data\n",
        "# y_pred = nb_classifier.predict(X_test)\n",
        "\n",
        "# # Evaluate the model\n",
        "# accuracy = accuracy_score(y_test, y_pred)\n",
        "# print(f'Accuracy: {accuracy:.2f}')\n",
        "\n",
        "# # Generate a classification report\n",
        "# report = classification_report(y_test, y_pred)\n",
        "# print('Classification Report:')\n",
        "# print(report)"
      ]
    },
    {
      "cell_type": "code",
      "execution_count": 49,
      "metadata": {
        "colab": {
          "base_uri": "https://localhost:8080/",
          "height": 211
        },
        "id": "6_9Folkl_cj4",
        "outputId": "65992667-6fe7-431f-aff5-6a28888b5adb"
      },
      "outputs": [
        {
          "ename": "NameError",
          "evalue": "name 'X_train_noisy' is not defined",
          "output_type": "error",
          "traceback": [
            "\u001b[1;31m---------------------------------------------------------------------------\u001b[0m",
            "\u001b[1;31mNameError\u001b[0m                                 Traceback (most recent call last)",
            "Cell \u001b[1;32mIn[49], line 7\u001b[0m\n\u001b[0;32m      4\u001b[0m undersampler \u001b[38;5;241m=\u001b[39m RandomUnderSampler()\n\u001b[0;32m      6\u001b[0m \u001b[38;5;66;03m# Undersample the majority class\u001b[39;00m\n\u001b[1;32m----> 7\u001b[0m X_train_resampled, y_train_resampled \u001b[38;5;241m=\u001b[39m undersampler\u001b[38;5;241m.\u001b[39mfit_resample(\u001b[43mX_train_noisy\u001b[49m, y_train)\n\u001b[0;32m      9\u001b[0m \u001b[38;5;66;03m# Train the model using the resampled data\u001b[39;00m\n\u001b[0;32m     10\u001b[0m pipeline\u001b[38;5;241m.\u001b[39mfit(X_train_resampled, y_train_resampled)\n",
            "\u001b[1;31mNameError\u001b[0m: name 'X_train_noisy' is not defined"
          ]
        }
      ],
      "source": [
        "from imblearn.under_sampling import RandomUnderSampler\n",
        "\n",
        "# Create an instance of RandomUnderSampler\n",
        "undersampler = RandomUnderSampler()\n",
        "\n",
        "# Undersample the majority class\n",
        "X_train_resampled, y_train_resampled = undersampler.fit_resample(X_train_noisy, y_train)\n",
        "\n",
        "# Train the model using the resampled data\n",
        "pipeline.fit(X_train_resampled, y_train_resampled)\n",
        "\n",
        "# Make predictions on the testing data\n",
        "y_pred = pipeline.predict(X_test)\n",
        "\n",
        "# Evaluate the model\n",
        "accuracy = accuracy_score(y_test, y_pred)\n",
        "print(f'Accuracy with class imbalance: {accuracy:.2f}')\n",
        "\n",
        "# Generate a classification report\n",
        "report = classification_report(y_test, y_pred)\n",
        "print('Classification Report:')\n",
        "print(report)\n"
      ]
    },
    {
      "cell_type": "code",
      "execution_count": null,
      "metadata": {
        "id": "3vkxK-4i4jgj"
      },
      "outputs": [],
      "source": [
        "# import pandas as pd\n",
        "# from sklearn.model_selection import train_test_split\n",
        "# from sklearn.linear_model import LogisticRegression\n",
        "# from sklearn.metrics import accuracy_score, classification_report\n",
        "\n",
        "\n",
        "# # Initialize the Logistic Regression model\n",
        "# logreg_model = LogisticRegression()\n",
        "\n",
        "# # Train the model using the training data\n",
        "# logreg_model.fit(X_train, y_train)\n",
        "\n",
        "# # Make predictions on the testing data\n",
        "# y_pred = logreg_model.predict(X_test)\n",
        "\n",
        "# # Evaluate the model\n",
        "# accuracy = accuracy_score(y_test, y_pred)\n",
        "# print(f'Accuracy: {accuracy:.2f}')\n",
        "\n",
        "# # Generate a classification report\n",
        "# report = classification_report(y_test, y_pred)\n",
        "# print('Classification Report:')\n",
        "# print(report)\n"
      ]
    },
    {
      "cell_type": "code",
      "execution_count": null,
      "metadata": {
        "colab": {
          "base_uri": "https://localhost:8080/"
        },
        "id": "pq2rzFGPCp_s",
        "outputId": "b0978d46-dc79-4169-a889-7c96e73efd80"
      },
      "outputs": [
        {
          "name": "stdout",
          "output_type": "stream",
          "text": [
            "Accuracy : 0.92\n",
            "Classification Report:\n",
            "              precision    recall  f1-score   support\n",
            "\n",
            "           0       1.00      0.25      0.40         4\n",
            "           1       1.00      0.52      0.69        21\n",
            "           2       0.91      1.00      0.95       134\n",
            "\n",
            "    accuracy                           0.92       159\n",
            "   macro avg       0.97      0.59      0.68       159\n",
            "weighted avg       0.93      0.92      0.90       159\n",
            "\n"
          ]
        },
        {
          "name": "stderr",
          "output_type": "stream",
          "text": [
            "/usr/local/lib/python3.10/dist-packages/sklearn/linear_model/_logistic.py:458: ConvergenceWarning: lbfgs failed to converge (status=1):\n",
            "STOP: TOTAL NO. of ITERATIONS REACHED LIMIT.\n",
            "\n",
            "Increase the number of iterations (max_iter) or scale the data as shown in:\n",
            "    https://scikit-learn.org/stable/modules/preprocessing.html\n",
            "Please also refer to the documentation for alternative solver options:\n",
            "    https://scikit-learn.org/stable/modules/linear_model.html#logistic-regression\n",
            "  n_iter_i = _check_optimize_result(\n"
          ]
        }
      ],
      "source": [
        "import numpy as np\n",
        "from sklearn.linear_model import LogisticRegression\n",
        "\n",
        "# Introduce random noise to the features\n",
        "X_train_noisy = X_train + np.random.normal(0, 5, size=X_train.shape)\n",
        "\n",
        "# Initialize the Logistic Regression model\n",
        "logreg_model = LogisticRegression()\n",
        "\n",
        "# Train the model using the noisy training data\n",
        "logreg_model.fit(X_train_noisy, y_train)\n",
        "\n",
        "# Make predictions on the testing data\n",
        "y_pred = logreg_model.predict(X_test)\n",
        "\n",
        "# Evaluate the model\n",
        "accuracy = accuracy_score(y_test, y_pred)\n",
        "print(f'Accuracy : {accuracy:.2f}')\n",
        "\n",
        "# Generate a classification report\n",
        "report = classification_report(y_test, y_pred)\n",
        "print('Classification Report:')\n",
        "print(report)"
      ]
    },
    {
      "cell_type": "code",
      "execution_count": null,
      "metadata": {
        "id": "SAZpQXU84jgk",
        "outputId": "3fafb35e-2604-4d15-c547-c718de75c55d"
      },
      "outputs": [
        {
          "name": "stdout",
          "output_type": "stream",
          "text": [
            "Accuracy: 0.99\n",
            "Classification Report:\n",
            "              precision    recall  f1-score   support\n",
            "\n",
            "           0       1.00      0.67      0.80         3\n",
            "           1       1.00      0.96      0.98        23\n",
            "           2       0.99      1.00      0.99       134\n",
            "\n",
            "    accuracy                           0.99       160\n",
            "   macro avg       1.00      0.87      0.92       160\n",
            "weighted avg       0.99      0.99      0.99       160\n",
            "\n"
          ]
        },
        {
          "name": "stderr",
          "output_type": "stream",
          "text": [
            "c:\\Users\\MithunM\\AppData\\Local\\Programs\\Python\\Python311\\Lib\\site-packages\\sklearn\\linear_model\\_logistic.py:469: ConvergenceWarning: lbfgs failed to converge (status=1):\n",
            "STOP: TOTAL NO. of ITERATIONS REACHED LIMIT.\n",
            "\n",
            "Increase the number of iterations (max_iter) or scale the data as shown in:\n",
            "    https://scikit-learn.org/stable/modules/preprocessing.html\n",
            "Please also refer to the documentation for alternative solver options:\n",
            "    https://scikit-learn.org/stable/modules/linear_model.html#logistic-regression\n",
            "  n_iter_i = _check_optimize_result(\n"
          ]
        }
      ],
      "source": [
        "# import pandas as pd\n",
        "# from sklearn.model_selection import train_test_split\n",
        "# from sklearn.linear_model import LogisticRegression\n",
        "# from sklearn.metrics import accuracy_score, classification_report\n",
        "\n",
        "# # Initialize the Logistic Regression model\n",
        "# logreg_model = LogisticRegression()\n",
        "\n",
        "# # Train the model using the training data\n",
        "# logreg_model.fit(X_train, y_train)\n",
        "\n",
        "# # Make predictions on the testing data\n",
        "# y_pred = logreg_model.predict(X_test)\n",
        "\n",
        "# # Evaluate the model\n",
        "# accuracy = accuracy_score(y_test, y_pred)\n",
        "# print(f'Accuracy: {accuracy:.2f}')\n",
        "\n",
        "# # Generate a classification report\n",
        "# report = classification_report(y_test, y_pred)\n",
        "# print('Classification Report:')\n",
        "# print(report)\n"
      ]
    },
    {
      "cell_type": "code",
      "execution_count": null,
      "metadata": {
        "id": "X2uOiXQk4jgk",
        "outputId": "50aba33d-3dbf-4ffb-e064-9f17dd9a5a2c"
      },
      "outputs": [
        {
          "name": "stdout",
          "output_type": "stream",
          "text": [
            "Requirement already satisfied: imbalanced-learn in c:\\users\\mithunm\\appdata\\local\\programs\\python\\python310\\lib\\site-packages (0.12.2)\n",
            "Requirement already satisfied: numpy>=1.17.3 in c:\\users\\mithunm\\appdata\\local\\programs\\python\\python310\\lib\\site-packages (from imbalanced-learn) (1.26.4)\n",
            "Requirement already satisfied: scipy>=1.5.0 in c:\\users\\mithunm\\appdata\\local\\programs\\python\\python310\\lib\\site-packages (from imbalanced-learn) (1.12.0)\n",
            "Requirement already satisfied: scikit-learn>=1.0.2 in c:\\users\\mithunm\\appdata\\local\\programs\\python\\python310\\lib\\site-packages (from imbalanced-learn) (1.4.1.post1)\n",
            "Requirement already satisfied: joblib>=1.1.1 in c:\\users\\mithunm\\appdata\\local\\programs\\python\\python310\\lib\\site-packages (from imbalanced-learn) (1.3.2)\n",
            "Requirement already satisfied: threadpoolctl>=2.0.0 in c:\\users\\mithunm\\appdata\\local\\programs\\python\\python310\\lib\\site-packages (from imbalanced-learn) (3.3.0)\n"
          ]
        }
      ],
      "source": [
        "!pip install imbalanced-learn"
      ]
    },
    {
      "cell_type": "code",
      "execution_count": null,
      "metadata": {
        "id": "FR1k2HBnDVMt"
      },
      "outputs": [],
      "source": []
    },
    {
      "cell_type": "code",
      "execution_count": null,
      "metadata": {
        "id": "4uEyMveg4jgl",
        "outputId": "52761148-947b-4890-a76c-fd0cc091ab55"
      },
      "outputs": [
        {
          "name": "stdout",
          "output_type": "stream",
          "text": [
            "Accuracy: 1.00\n",
            "Classification Report:\n",
            "              precision    recall  f1-score   support\n",
            "\n",
            "           0       1.00      1.00      1.00         4\n",
            "           1       1.00      1.00      1.00        21\n",
            "           2       1.00      1.00      1.00       134\n",
            "\n",
            "    accuracy                           1.00       159\n",
            "   macro avg       1.00      1.00      1.00       159\n",
            "weighted avg       1.00      1.00      1.00       159\n",
            "\n"
          ]
        },
        {
          "name": "stderr",
          "output_type": "stream",
          "text": [
            "c:\\Users\\MithunM\\AppData\\Local\\Programs\\Python\\Python311\\Lib\\site-packages\\sklearn\\linear_model\\_logistic.py:469: ConvergenceWarning: lbfgs failed to converge (status=1):\n",
            "STOP: TOTAL NO. of ITERATIONS REACHED LIMIT.\n",
            "\n",
            "Increase the number of iterations (max_iter) or scale the data as shown in:\n",
            "    https://scikit-learn.org/stable/modules/preprocessing.html\n",
            "Please also refer to the documentation for alternative solver options:\n",
            "    https://scikit-learn.org/stable/modules/linear_model.html#logistic-regression\n",
            "  n_iter_i = _check_optimize_result(\n"
          ]
        }
      ],
      "source": [
        "# import pandas as pd\n",
        "# from sklearn.model_selection import train_test_split\n",
        "# from sklearn.linear_model import LogisticRegression\n",
        "# from sklearn.metrics import classification_report, accuracy_score\n",
        "# from imblearn.over_sampling import SMOTE\n",
        "\n",
        "# # Apply SMOTE to the training data\n",
        "# smote = SMOTE(random_state=42)\n",
        "# X_train_resampled, y_train_resampled = smote.fit_resample(X_train, y_train)\n",
        "\n",
        "# # Initialize and train the Logistic Regression model\n",
        "# logreg_model = LogisticRegression()\n",
        "# logreg_model.fit(X_train_resampled, y_train_resampled)\n",
        "\n",
        "# # Make predictions on the testing data\n",
        "# y_pred = logreg_model.predict(X_test)\n",
        "\n",
        "# # Calculate accuracy\n",
        "# accuracy = accuracy_score(y_test, y_pred)\n",
        "# print(f'Accuracy: {accuracy:.2f}')\n",
        "\n",
        "# # Generate a classification report\n",
        "# report = classification_report(y_test, y_pred)\n",
        "# print('Classification Report:')\n",
        "# print(report)\n"
      ]
    },
    {
      "cell_type": "code",
      "execution_count": null,
      "metadata": {
        "colab": {
          "base_uri": "https://localhost:8080/"
        },
        "id": "i8Vim8WeD4SP",
        "outputId": "89d5bf05-25e4-4198-eafe-c5978a6ae186"
      },
      "outputs": [
        {
          "name": "stdout",
          "output_type": "stream",
          "text": [
            "Accuracy with noisy data: 0.87\n",
            "Classification Report with noisy data:\n",
            "              precision    recall  f1-score   support\n",
            "\n",
            "           0       0.50      0.07      0.12        15\n",
            "           1       0.86      0.45      0.59        40\n",
            "           2       0.88      0.98      0.93       263\n",
            "\n",
            "    accuracy                           0.87       318\n",
            "   macro avg       0.75      0.50      0.55       318\n",
            "weighted avg       0.86      0.87      0.85       318\n",
            "\n"
          ]
        }
      ],
      "source": [
        "import pandas as pd\n",
        "from sklearn.model_selection import train_test_split\n",
        "from sklearn.preprocessing import StandardScaler\n",
        "from sklearn.neighbors import KNeighborsClassifier\n",
        "from sklearn.metrics import accuracy_score, classification_report\n",
        "import numpy as np\n",
        "\n",
        "# Split the data into training and testing sets\n",
        "X_train, X_test, y_train, y_test = train_test_split(X, y, test_size=0.2, random_state=42)\n",
        "\n",
        "# Standardize the features by scaling\n",
        "scaler = StandardScaler()\n",
        "X_train_scaled = scaler.fit_transform(X_train)\n",
        "X_test_scaled = scaler.transform(X_test)\n",
        "\n",
        "# Introduce random noise to the scaled features\n",
        "X_train_scaled_noisy = X_train_scaled + np.random.normal(0, 1, size=X_train_scaled.shape)\n",
        "X_test_scaled_noisy = X_test_scaled + np.random.normal(0, 0.2, size=X_test_scaled.shape)\n",
        "\n",
        "# Initialize the KNN model\n",
        "knn_model_noisy = KNeighborsClassifier(n_neighbors=5)\n",
        "\n",
        "# Train the model using the noisy training data\n",
        "knn_model_noisy.fit(X_train_scaled_noisy, y_train)\n",
        "\n",
        "# Make predictions on the testing data\n",
        "y_pred_noisy = knn_model_noisy.predict(X_test_scaled_noisy)\n",
        "\n",
        "# Evaluate the model\n",
        "accuracy_noisy = accuracy_score(y_test, y_pred_noisy)\n",
        "print(f'Accuracy with noisy data: {accuracy_noisy:.2f}')\n",
        "\n",
        "# Generate a classification report\n",
        "report_noisy = classification_report(y_test, y_pred_noisy)\n",
        "print('Classification Report with noisy data:')\n",
        "print(report_noisy)\n"
      ]
    },
    {
      "cell_type": "code",
      "execution_count": null,
      "metadata": {
        "id": "SzNoYL3a4jg2"
      },
      "outputs": [],
      "source": [
        "# import pandas as pd\n",
        "# from sklearn.model_selection import train_test_split\n",
        "# from sklearn.preprocessing import StandardScaler\n",
        "# from sklearn.neighbors import KNeighborsClassifier\n",
        "# from sklearn.metrics import accuracy_score, classification_report\n",
        "\n",
        "# # Assuming df1 is\n",
        "# # Standardize the features by scaling\n",
        "# scaler = StandardScaler()\n",
        "# X_train_scaled = scaler.fit_transform(X_train)\n",
        "# X_test_scaled = scaler.transform(X_test)\n",
        "\n",
        "# # Initialize the KNN model\n",
        "# knn_model = KNeighborsClassifier(n_neighbors=5)\n",
        "\n",
        "# # Train the model using the training data\n",
        "# knn_model.fit(X_train_scaled, y_train)\n",
        "\n",
        "# # Make predictions on the testing data\n",
        "# y_pred = knn_model.predict(X_test_scaled)\n",
        "\n",
        "# # Evaluate the model\n",
        "# accuracy = accuracy_score(y_test, y_pred)\n",
        "# print(f'Accuracy: {accuracy:.2f}')\n",
        "\n",
        "# # Generate a classification report\n",
        "# report = classification_report(y_test, y_pred)\n",
        "# print('Classification Report:')\n",
        "# print(report)\n"
      ]
    },
    {
      "cell_type": "code",
      "execution_count": null,
      "metadata": {
        "colab": {
          "base_uri": "https://localhost:8080/"
        },
        "id": "-Oolpqlf7E5R",
        "outputId": "eb860d11-aa56-47ca-a191-4cacfc786d59"
      },
      "outputs": [
        {
          "name": "stdout",
          "output_type": "stream",
          "text": [
            "Accuracy with Random Forest Classifier: 0.87\n",
            "Classification Report with Random Forest Classifier:\n",
            "              precision    recall  f1-score   support\n",
            "\n",
            "           0       0.00      0.00      0.00        15\n",
            "           1       1.00      0.38      0.55        40\n",
            "           2       0.87      1.00      0.93       263\n",
            "\n",
            "    accuracy                           0.87       318\n",
            "   macro avg       0.62      0.46      0.49       318\n",
            "weighted avg       0.84      0.87      0.84       318\n",
            "\n"
          ]
        },
        {
          "name": "stderr",
          "output_type": "stream",
          "text": [
            "/usr/local/lib/python3.10/dist-packages/sklearn/metrics/_classification.py:1344: UndefinedMetricWarning: Precision and F-score are ill-defined and being set to 0.0 in labels with no predicted samples. Use `zero_division` parameter to control this behavior.\n",
            "  _warn_prf(average, modifier, msg_start, len(result))\n",
            "/usr/local/lib/python3.10/dist-packages/sklearn/metrics/_classification.py:1344: UndefinedMetricWarning: Precision and F-score are ill-defined and being set to 0.0 in labels with no predicted samples. Use `zero_division` parameter to control this behavior.\n",
            "  _warn_prf(average, modifier, msg_start, len(result))\n",
            "/usr/local/lib/python3.10/dist-packages/sklearn/metrics/_classification.py:1344: UndefinedMetricWarning: Precision and F-score are ill-defined and being set to 0.0 in labels with no predicted samples. Use `zero_division` parameter to control this behavior.\n",
            "  _warn_prf(average, modifier, msg_start, len(result))\n"
          ]
        }
      ],
      "source": [
        "from sklearn.ensemble import RandomForestClassifier\n",
        "from sklearn.metrics import accuracy_score, classification_report\n",
        "\n",
        "# Initialize the Random Forest classifier\n",
        "rf_classifier = RandomForestClassifier(n_estimators=100, random_state=42)\n",
        "\n",
        "# Train the classifier on the training data\n",
        "rf_classifier.fit(X_train_scaled_noisy, y_train)\n",
        "\n",
        "# Make predictions on the testing data\n",
        "y_pred_rf = rf_classifier.predict(X_test_scaled_noisy)\n",
        "\n",
        "# Evaluate the model\n",
        "accuracy_rf = accuracy_score(y_test, y_pred_rf)\n",
        "print(f'Accuracy with Random Forest Classifier: {accuracy_rf:.2f}')\n",
        "\n",
        "# Generate a classification report\n",
        "report_rf = classification_report(y_test, y_pred_rf)\n",
        "print('Classification Report with Random Forest Classifier:')\n",
        "print(report_rf)\n"
      ]
    },
    {
      "cell_type": "code",
      "execution_count": null,
      "metadata": {
        "id": "mqD-nkAy7Fxr"
      },
      "outputs": [],
      "source": []
    }
  ],
  "metadata": {
    "colab": {
      "provenance": []
    },
    "kernelspec": {
      "display_name": "Python 3",
      "language": "python",
      "name": "python3"
    },
    "language_info": {
      "codemirror_mode": {
        "name": "ipython",
        "version": 3
      },
      "file_extension": ".py",
      "mimetype": "text/x-python",
      "name": "python",
      "nbconvert_exporter": "python",
      "pygments_lexer": "ipython3",
      "version": "3.11.0"
    }
  },
  "nbformat": 4,
  "nbformat_minor": 0
}

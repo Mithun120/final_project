{
 "cells": [
  {
   "cell_type": "code",
   "execution_count": 1,
   "metadata": {},
   "outputs": [
    {
     "name": "stdout",
     "output_type": "stream",
     "text": [
      "Collecting snowflake-connector-python\n",
      "  Downloading snowflake_connector_python-3.7.1-cp311-cp311-win_amd64.whl (910 kB)\n",
      "     -------------------------------------- 910.4/910.4 kB 4.1 MB/s eta 0:00:00\n",
      "Requirement already satisfied: pandas in c:\\users\\mithunm\\appdata\\local\\programs\\python\\python311\\lib\\site-packages (2.2.0)\n",
      "Collecting asn1crypto<2.0.0,>0.24.0\n",
      "  Downloading asn1crypto-1.5.1-py2.py3-none-any.whl (105 kB)\n",
      "     -------------------------------------- 105.0/105.0 kB 5.9 MB/s eta 0:00:00\n",
      "Collecting cffi<2.0.0,>=1.9\n",
      "  Downloading cffi-1.16.0-cp311-cp311-win_amd64.whl (181 kB)\n",
      "     -------------------------------------- 181.5/181.5 kB 5.4 MB/s eta 0:00:00\n",
      "Collecting cryptography<43.0.0,>=3.1.0\n",
      "  Downloading cryptography-42.0.5-cp39-abi3-win_amd64.whl (2.9 MB)\n",
      "     ---------------------------------------- 2.9/2.9 MB 5.4 MB/s eta 0:00:00\n",
      "Collecting pyOpenSSL<25.0.0,>=16.2.0\n",
      "  Downloading pyOpenSSL-24.1.0-py3-none-any.whl (56 kB)\n",
      "     ---------------------------------------- 56.9/56.9 kB ? eta 0:00:00\n",
      "Collecting pyjwt<3.0.0\n",
      "  Downloading PyJWT-2.8.0-py3-none-any.whl (22 kB)\n",
      "Requirement already satisfied: pytz in c:\\users\\mithunm\\appdata\\local\\programs\\python\\python311\\lib\\site-packages (from snowflake-connector-python) (2024.1)\n",
      "Requirement already satisfied: requests<3.0.0 in c:\\users\\mithunm\\appdata\\local\\programs\\python\\python311\\lib\\site-packages (from snowflake-connector-python) (2.31.0)\n",
      "Requirement already satisfied: packaging in c:\\users\\mithunm\\appdata\\roaming\\python\\python311\\site-packages (from snowflake-connector-python) (23.2)\n",
      "Requirement already satisfied: charset-normalizer<4,>=2 in c:\\users\\mithunm\\appdata\\local\\programs\\python\\python311\\lib\\site-packages (from snowflake-connector-python) (3.3.2)\n",
      "Requirement already satisfied: idna<4,>=2.5 in c:\\users\\mithunm\\appdata\\local\\programs\\python\\python311\\lib\\site-packages (from snowflake-connector-python) (3.6)\n",
      "Requirement already satisfied: certifi>=2017.4.17 in c:\\users\\mithunm\\appdata\\local\\programs\\python\\python311\\lib\\site-packages (from snowflake-connector-python) (2024.2.2)\n",
      "Collecting typing-extensions<5,>=4.3\n",
      "  Downloading typing_extensions-4.11.0-py3-none-any.whl (34 kB)\n",
      "Collecting filelock<4,>=3.5\n",
      "  Downloading filelock-3.13.3-py3-none-any.whl (11 kB)\n",
      "Collecting sortedcontainers>=2.4.0\n",
      "  Using cached sortedcontainers-2.4.0-py2.py3-none-any.whl (29 kB)\n",
      "Collecting platformdirs<4.0.0,>=2.6.0\n",
      "  Downloading platformdirs-3.11.0-py3-none-any.whl (17 kB)\n",
      "Collecting tomlkit\n",
      "  Downloading tomlkit-0.12.4-py3-none-any.whl (37 kB)\n",
      "Requirement already satisfied: numpy<2,>=1.23.2 in c:\\users\\mithunm\\appdata\\local\\programs\\python\\python311\\lib\\site-packages (from pandas) (1.26.4)\n",
      "Requirement already satisfied: python-dateutil>=2.8.2 in c:\\users\\mithunm\\appdata\\roaming\\python\\python311\\site-packages (from pandas) (2.8.2)\n",
      "Requirement already satisfied: tzdata>=2022.7 in c:\\users\\mithunm\\appdata\\local\\programs\\python\\python311\\lib\\site-packages (from pandas) (2024.1)\n",
      "Collecting pycparser\n",
      "  Downloading pycparser-2.22-py3-none-any.whl (117 kB)\n",
      "     -------------------------------------- 117.6/117.6 kB 7.2 MB/s eta 0:00:00\n",
      "Requirement already satisfied: six>=1.5 in c:\\users\\mithunm\\appdata\\roaming\\python\\python311\\site-packages (from python-dateutil>=2.8.2->pandas) (1.16.0)\n",
      "Requirement already satisfied: urllib3<3,>=1.21.1 in c:\\users\\mithunm\\appdata\\local\\programs\\python\\python311\\lib\\site-packages (from requests<3.0.0->snowflake-connector-python) (2.2.1)\n",
      "Installing collected packages: sortedcontainers, asn1crypto, typing-extensions, tomlkit, pyjwt, pycparser, platformdirs, filelock, cffi, cryptography, pyOpenSSL, snowflake-connector-python\n",
      "  Attempting uninstall: platformdirs\n",
      "    Found existing installation: platformdirs 4.2.0\n",
      "    Uninstalling platformdirs-4.2.0:\n",
      "      Successfully uninstalled platformdirs-4.2.0\n",
      "Successfully installed asn1crypto-1.5.1 cffi-1.16.0 cryptography-42.0.5 filelock-3.13.3 platformdirs-3.11.0 pyOpenSSL-24.1.0 pycparser-2.22 pyjwt-2.8.0 snowflake-connector-python-3.7.1 sortedcontainers-2.4.0 tomlkit-0.12.4 typing-extensions-4.11.0\n",
      "Note: you may need to restart the kernel to use updated packages.\n"
     ]
    },
    {
     "name": "stderr",
     "output_type": "stream",
     "text": [
      "  WARNING: The scripts snowflake-dump-certs.exe, snowflake-dump-ocsp-response-cache.exe, snowflake-dump-ocsp-response.exe and snowflake-export-certs.exe are installed in 'c:\\Users\\MithunM\\AppData\\Local\\Programs\\Python\\Python311\\Scripts' which is not on PATH.\n",
      "  Consider adding this directory to PATH or, if you prefer to suppress this warning, use --no-warn-script-location.\n",
      "\n",
      "[notice] A new release of pip available: 22.3 -> 24.0\n",
      "[notice] To update, run: python.exe -m pip install --upgrade pip\n"
     ]
    }
   ],
   "source": [
    "pip install snowflake-connector-python pandas\n"
   ]
  },
  {
   "cell_type": "code",
   "execution_count": 2,
   "metadata": {},
   "outputs": [],
   "source": [
    "import snowflake.connector\n",
    "import pandas as pd\n"
   ]
  },
  {
   "cell_type": "code",
   "execution_count": 6,
   "metadata": {},
   "outputs": [],
   "source": [
    "snowflake_account = 'lz05490.central-india.azure'\n",
    "snowflake_user = 'mithun'\n",
    "snowflake_password = 'Mithun123!!'\n",
    "snowflake_database = 'TIMESHEET'\n",
    "snowflake_schema = 'TIMESHEET_SCHEMA'"
   ]
  },
  {
   "cell_type": "code",
   "execution_count": 8,
   "metadata": {},
   "outputs": [
    {
     "ename": "TypeError",
     "evalue": "not all arguments converted during string formatting",
     "output_type": "error",
     "traceback": [
      "\u001b[1;31m---------------------------------------------------------------------------\u001b[0m",
      "\u001b[1;31mTypeError\u001b[0m                                 Traceback (most recent call last)",
      "Cell \u001b[1;32mIn[8], line 34\u001b[0m\n\u001b[0;32m     32\u001b[0m \u001b[38;5;66;03m# Upload DataFrame to Snowflake table using cursor.executemany()\u001b[39;00m\n\u001b[0;32m     33\u001b[0m insert_query \u001b[38;5;241m=\u001b[39m \u001b[38;5;124mf\u001b[39m\u001b[38;5;124m'\u001b[39m\u001b[38;5;124mINSERT INTO \u001b[39m\u001b[38;5;132;01m{\u001b[39;00msnowflake_table\u001b[38;5;132;01m}\u001b[39;00m\u001b[38;5;124m VALUES (\u001b[39m\u001b[38;5;132;01m{\u001b[39;00m\u001b[38;5;124m\"\u001b[39m\u001b[38;5;124m, \u001b[39m\u001b[38;5;124m\"\u001b[39m\u001b[38;5;241m.\u001b[39mjoin([\u001b[38;5;124m\"\u001b[39m\u001b[38;5;124m?\u001b[39m\u001b[38;5;124m\"\u001b[39m]\u001b[38;5;250m \u001b[39m\u001b[38;5;241m*\u001b[39m\u001b[38;5;250m \u001b[39m\u001b[38;5;28mlen\u001b[39m(df\u001b[38;5;241m.\u001b[39mcolumns))\u001b[38;5;132;01m}\u001b[39;00m\u001b[38;5;124m)\u001b[39m\u001b[38;5;124m'\u001b[39m\n\u001b[1;32m---> 34\u001b[0m \u001b[43mcursor\u001b[49m\u001b[38;5;241;43m.\u001b[39;49m\u001b[43mexecutemany\u001b[49m\u001b[43m(\u001b[49m\u001b[43minsert_query\u001b[49m\u001b[43m,\u001b[49m\u001b[43m \u001b[49m\u001b[43mdf\u001b[49m\u001b[38;5;241;43m.\u001b[39;49m\u001b[43mvalues\u001b[49m\u001b[38;5;241;43m.\u001b[39;49m\u001b[43mtolist\u001b[49m\u001b[43m(\u001b[49m\u001b[43m)\u001b[49m\u001b[43m)\u001b[49m\n\u001b[0;32m     36\u001b[0m \u001b[38;5;66;03m# Commit changes\u001b[39;00m\n\u001b[0;32m     37\u001b[0m conn\u001b[38;5;241m.\u001b[39mcommit()\n",
      "File \u001b[1;32mc:\\Users\\MithunM\\AppData\\Local\\Programs\\Python\\Python311\\Lib\\site-packages\\snowflake\\connector\\cursor.py:1430\u001b[0m, in \u001b[0;36mSnowflakeCursor.executemany\u001b[1;34m(self, command, seqparams, **kwargs)\u001b[0m\n\u001b[0;32m   1427\u001b[0m \u001b[38;5;28;01mfor\u001b[39;00m param \u001b[38;5;129;01min\u001b[39;00m seqparams:\n\u001b[0;32m   1428\u001b[0m     logger\u001b[38;5;241m.\u001b[39mdebug(\u001b[38;5;124mf\u001b[39m\u001b[38;5;124m\"\u001b[39m\u001b[38;5;124mparameter: \u001b[39m\u001b[38;5;132;01m{\u001b[39;00mparam\u001b[38;5;132;01m}\u001b[39;00m\u001b[38;5;124m\"\u001b[39m)\n\u001b[0;32m   1429\u001b[0m     values\u001b[38;5;241m.\u001b[39mappend(\n\u001b[1;32m-> 1430\u001b[0m         \u001b[43mfmt\u001b[49m\u001b[43m \u001b[49m\u001b[38;5;241;43m%\u001b[39;49m\u001b[43m \u001b[49m\u001b[38;5;28;43mself\u001b[39;49m\u001b[38;5;241;43m.\u001b[39;49m\u001b[43m_connection\u001b[49m\u001b[38;5;241;43m.\u001b[39;49m\u001b[43m_process_params_pyformat\u001b[49m\u001b[43m(\u001b[49m\u001b[43mparam\u001b[49m\u001b[43m,\u001b[49m\u001b[43m \u001b[49m\u001b[38;5;28;43mself\u001b[39;49m\u001b[43m)\u001b[49m\n\u001b[0;32m   1431\u001b[0m     )\n\u001b[0;32m   1432\u001b[0m command \u001b[38;5;241m=\u001b[39m command\u001b[38;5;241m.\u001b[39mreplace(fmt, \u001b[38;5;124m\"\u001b[39m\u001b[38;5;124m,\u001b[39m\u001b[38;5;124m\"\u001b[39m\u001b[38;5;241m.\u001b[39mjoin(values), \u001b[38;5;241m1\u001b[39m)\n\u001b[0;32m   1433\u001b[0m \u001b[38;5;28mself\u001b[39m\u001b[38;5;241m.\u001b[39mexecute(command, \u001b[38;5;241m*\u001b[39m\u001b[38;5;241m*\u001b[39mkwargs)\n",
      "\u001b[1;31mTypeError\u001b[0m: not all arguments converted during string formatting"
     ]
    }
   ],
   "source": [
    "import snowflake.connector\n",
    "import pandas as pd\n",
    "import uuid  # For generating unique table name\n",
    "\n",
    "\n",
    "\n",
    "# Generate a unique temporary table name\n",
    "snowflake_table = f'temp_table_{uuid.uuid4().hex}'  # Generates a random UUID hex string\n",
    "\n",
    "# Snowflake connection\n",
    "conn = snowflake.connector.connect(\n",
    "    user=snowflake_user,\n",
    "    password=snowflake_password,\n",
    "    account=snowflake_account,\n",
    "    database=snowflake_database,\n",
    "    schema=snowflake_schema\n",
    ")\n",
    "\n",
    "# CSV file path using raw string literal\n",
    "csv_file_path = 'projects.csv'\n",
    "\n",
    "# Read CSV file into Pandas DataFrame\n",
    "df = pd.read_csv(csv_file_path)\n",
    "\n",
    "# Create Snowflake cursor\n",
    "cursor = conn.cursor()\n",
    "\n",
    "# Create Snowflake table dynamically based on DataFrame columns\n",
    "create_table_query = f'CREATE OR REPLACE TABLE {snowflake_table} ({\", \".join([f\"{col} STRING\" for col in df.columns])})'\n",
    "cursor.execute(create_table_query)\n",
    "\n",
    "# Upload DataFrame to Snowflake table using cursor.executemany()\n",
    "insert_query = f'INSERT INTO {snowflake_table} VALUES ({\", \".join([\"?\"] * len(df.columns))})'\n",
    "cursor.executemany(insert_query, df.values.tolist())\n",
    "\n",
    "# Commit changes\n",
    "conn.commit()\n",
    "\n",
    "# Close Snowflake connection and cursor\n",
    "cursor.close()\n",
    "conn.close()\n",
    "\n",
    "# Print the temporary table name for reference\n",
    "print(f'Temporary table name: {snowflake_table}')\n"
   ]
  },
  {
   "cell_type": "code",
   "execution_count": null,
   "metadata": {},
   "outputs": [],
   "source": []
  }
 ],
 "metadata": {
  "kernelspec": {
   "display_name": "Python 3",
   "language": "python",
   "name": "python3"
  },
  "language_info": {
   "codemirror_mode": {
    "name": "ipython",
    "version": 3
   },
   "file_extension": ".py",
   "mimetype": "text/x-python",
   "name": "python",
   "nbconvert_exporter": "python",
   "pygments_lexer": "ipython3",
   "version": "3.11.0"
  }
 },
 "nbformat": 4,
 "nbformat_minor": 2
}
